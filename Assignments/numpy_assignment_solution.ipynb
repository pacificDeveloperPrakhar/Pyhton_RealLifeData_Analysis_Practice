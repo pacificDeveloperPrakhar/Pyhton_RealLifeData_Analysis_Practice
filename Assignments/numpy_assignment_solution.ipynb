{
 "cells": [
  {
   "cell_type": "markdown",
   "metadata": {},
   "source": [
    "## Assignment_1"
   ]
  },
  {
   "cell_type": "code",
   "execution_count": 1,
   "metadata": {},
   "outputs": [],
   "source": [
    "import numpy as np"
   ]
  },
  {
   "cell_type": "code",
   "execution_count": 21,
   "metadata": {},
   "outputs": [
    {
     "data": {
      "text/plain": [
       "array([[ 2,  2,  3,  4],\n",
       "       [ 5,  2,  7,  8],\n",
       "       [ 9, 10,  2, 12],\n",
       "       [13, 14, 15,  2]])"
      ]
     },
     "execution_count": 21,
     "metadata": {},
     "output_type": "execute_result"
    }
   ],
   "source": [
    "#creating a array in numpy with random integer bwtween 1 to 20\n",
    "arr=np.random.randint(1,20,size=25).reshape(5,5)\n",
    "# replacing the third colm with 0\n",
    "arr[:,2]=1\n",
    "arr\n",
    "# creating an array with shape 4*4 with values ranging from 1 to 12\n",
    "arr=np.array([x for x in range(1,17)]).reshape(4,4)\n",
    "# now turining all the diagonal values to 0\n",
    "\n",
    "for i in range(0,arr.shape[0]):\n",
    " arr[i,i]=1\n",
    "arr\n",
    "# you can also use the function called fill_diagnol to replace the arrays diagnol with the custom value\n",
    "np.fill_diagonal(arr,2)\n",
    "arr\n"
   ]
  },
  {
   "cell_type": "markdown",
   "metadata": {},
   "source": [
    "### Assignment 2: Array Indexing and Slicing\n",
    "\n",
    "1. Create a NumPy array of shape (6, 6) with values from 1 to 36. Extract the sub-array consisting of the 3rd to 5th rows and 2nd to 4th columns.\n",
    "2. Create a NumPy array of shape (5, 5) with random integers. Extract the elements on the border."
   ]
  },
  {
   "cell_type": "code",
   "execution_count": 25,
   "metadata": {},
   "outputs": [
    {
     "name": "stdout",
     "output_type": "stream",
     "text": [
      "[[ 1  2  3  4  5  6]\n",
      " [ 7  8  9 10 11 12]\n",
      " [13 14 15 16 17 18]\n",
      " [19 20 21 22 23 24]\n",
      " [25 26 27 28 29 30]\n",
      " [31 32 33 34 35 36]]\n",
      "[[14 15 16]\n",
      " [20 21 22]\n",
      " [26 27 28]]\n"
     ]
    }
   ],
   "source": [
    "#last indexing is always exclusive\n",
    "arr=np.array([x for x in range(1,37)]).reshape(6,6)\n",
    "print(arr)\n",
    "print(arr[2:5,1:4])"
   ]
  },
  {
   "cell_type": "markdown",
   "metadata": {},
   "source": [
    "### Assignment 3: Array Operations\n",
    "\n",
    "1. Create two NumPy arrays of shape (3, 4) filled with random integers. Perform element-wise addition, subtraction, multiplication, and division.\n",
    "2. Create a NumPy array of shape (4, 4) with values from 1 to 16. Compute the row-wise and column-wise sum."
   ]
  },
  {
   "cell_type": "code",
   "execution_count": 34,
   "metadata": {},
   "outputs": [
    {
     "name": "stdout",
     "output_type": "stream",
     "text": [
      "[[ 533 2200 5433 3244]\n",
      " [6122 4654 9762 9384]\n",
      " [1977  517 7417 8229]]\n",
      "subtraction\n",
      "[[ 523 2190 5423 3234]\n",
      " [6112 4644 9752 9374]\n",
      " [1967  507 7407 8219]]\n",
      "addition\n",
      "[[ 543 2210 5443 3254]\n",
      " [6132 4664 9772 9394]\n",
      " [1987  527 7427 8239]]\n",
      "------------------------------------------------\n",
      "[[ 533 2200 5433 3244]\n",
      " [6122 4654 9762 9384]\n",
      " [1977  517 7417 8229]]\n",
      "perform the arithmetic operation\n",
      "[[ 533 2200 5433 3244]\n",
      " [6145 4677 9785 9407]\n",
      " [1977  517 7417 8229]]\n"
     ]
    }
   ],
   "source": [
    "arr=np.random.randint(10000,size=12).reshape(3,4)\n",
    "print(arr)\n",
    "# subtraction\n",
    "print(\"subtraction\")\n",
    "print(arr-10)\n",
    "# addition\n",
    "print(\"addition\")\n",
    "print(arr+10)\n",
    "#computing the rowwise arithmetic operations\n",
    "print(\"------------------------------------------------\")\n",
    "print(arr)\n",
    "print(\"perform the arithmetic operation\")\n",
    "arr[1:2]=arr[1:2]+23\n",
    "print(arr)"
   ]
  },
  {
   "cell_type": "markdown",
   "metadata": {},
   "source": [
    "### Assignment 4: Statistical Operations\n",
    "\n",
    "1. Create a NumPy array of shape (5, 5) filled with random integers. Compute the mean, median, standard deviation, and variance of the array.\n",
    "2. Create a NumPy array of shape (3, 3) with values from 1 to 9. Normalize the array (i.e., scale the values to have a mean of 0 and a standard deviation of 1)."
   ]
  },
  {
   "cell_type": "code",
   "execution_count": 52,
   "metadata": {},
   "outputs": [
    {
     "name": "stdout",
     "output_type": "stream",
     "text": [
      "mean of the dataset: 38632.52\n",
      "median of the dataset: 33772.0\n",
      "[[70301 17057  3535 59591 39794]\n",
      " [82195 40818 15013 30825 48688]\n",
      " [ 9627  7556 11481 33772 53053]\n",
      " [58951 12076 73898 30530 73074]\n",
      " [ 4147 13906 76001 90987  8937]]\n",
      "mode of the dataset: ModeResult(mode=array([[ 4147,  7556,  3535, 30530,  8937]]), count=array([[1, 1, 1, 1, 1]]))\n"
     ]
    }
   ],
   "source": [
    "arr=np.random.randint(100000,size=25).reshape(5,5)\n",
    "#mean\n",
    "print(\"mean of the dataset:\",np.mean(arr))\n",
    "#median \n",
    "print(\"median of the dataset:\",np.median(arr))\n",
    "# finding the mode of the daytaset\n",
    "import scipy as scp\n",
    "print(arr)\n",
    "print(\"mode of the dataset:\",scp.stats.mode(arr,axis=0,keepdims=True))\n"
   ]
  },
  {
   "cell_type": "code",
   "execution_count": null,
   "metadata": {},
   "outputs": [],
   "source": []
  }
 ],
 "metadata": {
  "kernelspec": {
   "display_name": "Python 3",
   "language": "python",
   "name": "python3"
  },
  "language_info": {
   "codemirror_mode": {
    "name": "ipython",
    "version": 3
   },
   "file_extension": ".py",
   "mimetype": "text/x-python",
   "name": "python",
   "nbconvert_exporter": "python",
   "pygments_lexer": "ipython3",
   "version": "3.10.14"
  }
 },
 "nbformat": 4,
 "nbformat_minor": 2
}
