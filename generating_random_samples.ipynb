{
 "cells": [
  {
   "cell_type": "code",
   "execution_count": 7,
   "metadata": {},
   "outputs": [],
   "source": [
    "import numpy as np"
   ]
  },
  {
   "cell_type": "markdown",
   "metadata": {},
   "source": [
    "## Random Generator"
   ]
  },
  {
   "cell_type": "markdown",
   "metadata": {},
   "source": [
    ">from a variety of probability distribution we can generate random samples"
   ]
  },
  {
   "cell_type": "markdown",
   "metadata": {},
   "source": [
    ">there are two random sample generator that are prngs rngs"
   ]
  },
  {
   "cell_type": "markdown",
   "metadata": {},
   "source": [
    ">rngs are deterministic meaning one can tell or know what sample do be generated from the given seed"
   ]
  },
  {
   "cell_type": "code",
   "execution_count": 8,
   "metadata": {},
   "outputs": [
    {
     "data": {
      "text/plain": [
       "0.25803412662480674"
      ]
     },
     "execution_count": 8,
     "metadata": {},
     "output_type": "execute_result"
    }
   ],
   "source": [
    "rng=np.random.default_rng()\n",
    "# this will give me a generator instance\n",
    "rng.random()"
   ]
  },
  {
   "cell_type": "code",
   "execution_count": 9,
   "metadata": {},
   "outputs": [],
   "source": [
    "# to generate a seed for the random_sample_generator\n",
    "import secrets\n",
    "lrgValue=secrets.randbits(128)"
   ]
  },
  {
   "cell_type": "code",
   "execution_count": 10,
   "metadata": {},
   "outputs": [],
   "source": [
    "rng=np.random.default_rng(lrgValue)"
   ]
  },
  {
   "cell_type": "code",
   "execution_count": 11,
   "metadata": {},
   "outputs": [
    {
     "data": {
      "text/plain": [
       "array([-0.31158122,  0.5877469 ,  1.54067488, -0.43684376,  1.77116763,\n",
       "        0.45756829, -1.59047308,  0.7968978 ,  0.3279018 , -0.20936962])"
      ]
     },
     "execution_count": 11,
     "metadata": {},
     "output_type": "execute_result"
    }
   ],
   "source": [
    "# this will generate 10 number which will exist in the normal distribution that is in the gaussian distribution\n",
    "# mean =0\n",
    "# medain =0\n",
    "# mode=0\n",
    "# sd=1\n",
    "\n",
    "rng.standard_normal(10)"
   ]
  },
  {
   "cell_type": "markdown",
   "metadata": {},
   "source": [
    "### Properties of a Standard Normal Distribution\n",
    "\n",
    "- **Mean (μ) = 0**: The average of all the data points.\n",
    "- **Median = 0**: The middle value of the distribution.\n",
    "- **Mode = 0**: The value that appears most frequently.\n",
    "- **Standard Deviation (σ) = 1**: The measure of the spread of the distribution.\n",
    "\n",
    "In summary:\n",
    "- The distribution is symmetric around **0**.\n",
    "- **68%** of the values lie within **±1** standard deviation.\n",
    "- **95%** of the values lie within **±2** standard deviations.\n",
    "- **99.7%** of the values lie within **±3** standard deviations.\n"
   ]
  }
 ],
 "metadata": {
  "kernelspec": {
   "display_name": "Python 3",
   "language": "python",
   "name": "python3"
  },
  "language_info": {
   "codemirror_mode": {
    "name": "ipython",
    "version": 3
   },
   "file_extension": ".py",
   "mimetype": "text/x-python",
   "name": "python",
   "nbconvert_exporter": "python",
   "pygments_lexer": "ipython3",
   "version": "3.10.14"
  }
 },
 "nbformat": 4,
 "nbformat_minor": 2
}
