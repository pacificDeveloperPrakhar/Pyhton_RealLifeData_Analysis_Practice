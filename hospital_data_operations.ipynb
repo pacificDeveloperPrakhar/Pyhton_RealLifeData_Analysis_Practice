{
 "cells": [
  {
   "cell_type": "code",
   "execution_count": 6,
   "metadata": {},
   "outputs": [],
   "source": [
    "import pandas as pd\n",
    "import math"
   ]
  },
  {
   "cell_type": "code",
   "execution_count": 17,
   "metadata": {},
   "outputs": [],
   "source": [
    "hospital_data_df=pd.read_csv(\"./hospital_data.csv\")"
   ]
  },
  {
   "cell_type": "code",
   "execution_count": 8,
   "metadata": {},
   "outputs": [
    {
     "data": {
      "text/html": [
       "<div>\n",
       "<style scoped>\n",
       "    .dataframe tbody tr th:only-of-type {\n",
       "        vertical-align: middle;\n",
       "    }\n",
       "\n",
       "    .dataframe tbody tr th {\n",
       "        vertical-align: top;\n",
       "    }\n",
       "\n",
       "    .dataframe thead th {\n",
       "        text-align: right;\n",
       "    }\n",
       "</style>\n",
       "<table border=\"1\" class=\"dataframe\">\n",
       "  <thead>\n",
       "    <tr style=\"text-align: right;\">\n",
       "      <th></th>\n",
       "      <th>Patient_ID</th>\n",
       "      <th>Name</th>\n",
       "      <th>Age</th>\n",
       "      <th>Gender</th>\n",
       "      <th>Disease</th>\n",
       "      <th>Income</th>\n",
       "      <th>Days_Admitted</th>\n",
       "      <th>Treatment_Cost</th>\n",
       "      <th>Discharged</th>\n",
       "    </tr>\n",
       "  </thead>\n",
       "  <tbody>\n",
       "    <tr>\n",
       "      <th>0</th>\n",
       "      <td>10001</td>\n",
       "      <td>Patient_1</td>\n",
       "      <td>46</td>\n",
       "      <td>Male</td>\n",
       "      <td>NaN</td>\n",
       "      <td>90000.0</td>\n",
       "      <td>21.0</td>\n",
       "      <td>9816</td>\n",
       "      <td>True</td>\n",
       "    </tr>\n",
       "    <tr>\n",
       "      <th>1</th>\n",
       "      <td>10002</td>\n",
       "      <td>Patient_2</td>\n",
       "      <td>86</td>\n",
       "      <td>Female</td>\n",
       "      <td>Asthma</td>\n",
       "      <td>90000.0</td>\n",
       "      <td>20.0</td>\n",
       "      <td>8126</td>\n",
       "      <td>False</td>\n",
       "    </tr>\n",
       "    <tr>\n",
       "      <th>2</th>\n",
       "      <td>10003</td>\n",
       "      <td>Patient_3</td>\n",
       "      <td>64</td>\n",
       "      <td>Male</td>\n",
       "      <td>Asthma</td>\n",
       "      <td>50000.0</td>\n",
       "      <td>6.0</td>\n",
       "      <td>9192</td>\n",
       "      <td>False</td>\n",
       "    </tr>\n",
       "    <tr>\n",
       "      <th>3</th>\n",
       "      <td>10004</td>\n",
       "      <td>Patient_4</td>\n",
       "      <td>79</td>\n",
       "      <td>Female</td>\n",
       "      <td>Diabetes</td>\n",
       "      <td>50000.0</td>\n",
       "      <td>4.0</td>\n",
       "      <td>5505</td>\n",
       "      <td>True</td>\n",
       "    </tr>\n",
       "  </tbody>\n",
       "</table>\n",
       "</div>"
      ],
      "text/plain": [
       "   Patient_ID       Name  Age  Gender   Disease   Income  Days_Admitted  \\\n",
       "0       10001  Patient_1   46    Male       NaN  90000.0           21.0   \n",
       "1       10002  Patient_2   86  Female    Asthma  90000.0           20.0   \n",
       "2       10003  Patient_3   64    Male    Asthma  50000.0            6.0   \n",
       "3       10004  Patient_4   79  Female  Diabetes  50000.0            4.0   \n",
       "\n",
       "   Treatment_Cost  Discharged  \n",
       "0            9816        True  \n",
       "1            8126       False  \n",
       "2            9192       False  \n",
       "3            5505        True  "
      ]
     },
     "execution_count": 8,
     "metadata": {},
     "output_type": "execute_result"
    }
   ],
   "source": [
    "#first i print the data frame starting rows\n",
    "hospital_data_df.head(4)"
   ]
  },
  {
   "cell_type": "code",
   "execution_count": 15,
   "metadata": {},
   "outputs": [
    {
     "name": "stderr",
     "output_type": "stream",
     "text": [
      "C:\\Users\\Pragya\\AppData\\Local\\Temp\\ipykernel_16576\\3241698807.py:3: FutureWarning: Setting an item of incompatible dtype is deprecated and will raise an error in a future version of pandas. Value 'All Tests Negative' has dtype incompatible with int64, please explicitly cast to a compatible dtype first.\n",
      "  hospital_data_df.loc[pd.isna(hospital_data_df.Disease)&(hospital_data_df.Discharged==True)]=\"All Tests Negative\"\n",
      "C:\\Users\\Pragya\\AppData\\Local\\Temp\\ipykernel_16576\\3241698807.py:3: FutureWarning: Setting an item of incompatible dtype is deprecated and will raise an error in a future version of pandas. Value 'All Tests Negative' has dtype incompatible with int64, please explicitly cast to a compatible dtype first.\n",
      "  hospital_data_df.loc[pd.isna(hospital_data_df.Disease)&(hospital_data_df.Discharged==True)]=\"All Tests Negative\"\n",
      "C:\\Users\\Pragya\\AppData\\Local\\Temp\\ipykernel_16576\\3241698807.py:3: FutureWarning: Setting an item of incompatible dtype is deprecated and will raise an error in a future version of pandas. Value 'All Tests Negative' has dtype incompatible with float64, please explicitly cast to a compatible dtype first.\n",
      "  hospital_data_df.loc[pd.isna(hospital_data_df.Disease)&(hospital_data_df.Discharged==True)]=\"All Tests Negative\"\n",
      "C:\\Users\\Pragya\\AppData\\Local\\Temp\\ipykernel_16576\\3241698807.py:3: FutureWarning: Setting an item of incompatible dtype is deprecated and will raise an error in a future version of pandas. Value 'All Tests Negative' has dtype incompatible with float64, please explicitly cast to a compatible dtype first.\n",
      "  hospital_data_df.loc[pd.isna(hospital_data_df.Disease)&(hospital_data_df.Discharged==True)]=\"All Tests Negative\"\n",
      "C:\\Users\\Pragya\\AppData\\Local\\Temp\\ipykernel_16576\\3241698807.py:3: FutureWarning: Setting an item of incompatible dtype is deprecated and will raise an error in a future version of pandas. Value 'All Tests Negative' has dtype incompatible with int64, please explicitly cast to a compatible dtype first.\n",
      "  hospital_data_df.loc[pd.isna(hospital_data_df.Disease)&(hospital_data_df.Discharged==True)]=\"All Tests Negative\"\n",
      "C:\\Users\\Pragya\\AppData\\Local\\Temp\\ipykernel_16576\\3241698807.py:3: FutureWarning: Setting an item of incompatible dtype is deprecated and will raise an error in a future version of pandas. Value 'All Tests Negative' has dtype incompatible with bool, please explicitly cast to a compatible dtype first.\n",
      "  hospital_data_df.loc[pd.isna(hospital_data_df.Disease)&(hospital_data_df.Discharged==True)]=\"All Tests Negative\"\n"
     ]
    }
   ],
   "source": [
    "#i will modify the data by replacing the NaN in disease and he or she has been discharged then i will say then were diagnosed with no\n",
    "# disease\n",
    "hospital_data_df.loc[pd.isna(hospital_data_df.Disease)&(hospital_data_df.Discharged==True)]=\"All Tests Negative\""
   ]
  },
  {
   "cell_type": "code",
   "execution_count": 16,
   "metadata": {},
   "outputs": [
    {
     "data": {
      "text/html": [
       "<div>\n",
       "<style scoped>\n",
       "    .dataframe tbody tr th:only-of-type {\n",
       "        vertical-align: middle;\n",
       "    }\n",
       "\n",
       "    .dataframe tbody tr th {\n",
       "        vertical-align: top;\n",
       "    }\n",
       "\n",
       "    .dataframe thead th {\n",
       "        text-align: right;\n",
       "    }\n",
       "</style>\n",
       "<table border=\"1\" class=\"dataframe\">\n",
       "  <thead>\n",
       "    <tr style=\"text-align: right;\">\n",
       "      <th></th>\n",
       "      <th>Patient_ID</th>\n",
       "      <th>Name</th>\n",
       "      <th>Age</th>\n",
       "      <th>Gender</th>\n",
       "      <th>Disease</th>\n",
       "      <th>Income</th>\n",
       "      <th>Days_Admitted</th>\n",
       "      <th>Treatment_Cost</th>\n",
       "      <th>Discharged</th>\n",
       "    </tr>\n",
       "  </thead>\n",
       "  <tbody>\n",
       "    <tr>\n",
       "      <th>0</th>\n",
       "      <td>All Tests Negative</td>\n",
       "      <td>All Tests Negative</td>\n",
       "      <td>All Tests Negative</td>\n",
       "      <td>All Tests Negative</td>\n",
       "      <td>All Tests Negative</td>\n",
       "      <td>All Tests Negative</td>\n",
       "      <td>All Tests Negative</td>\n",
       "      <td>All Tests Negative</td>\n",
       "      <td>All Tests Negative</td>\n",
       "    </tr>\n",
       "    <tr>\n",
       "      <th>1</th>\n",
       "      <td>10002</td>\n",
       "      <td>Patient_2</td>\n",
       "      <td>86</td>\n",
       "      <td>Female</td>\n",
       "      <td>Asthma</td>\n",
       "      <td>90000.0</td>\n",
       "      <td>20.0</td>\n",
       "      <td>8126</td>\n",
       "      <td>False</td>\n",
       "    </tr>\n",
       "    <tr>\n",
       "      <th>2</th>\n",
       "      <td>10003</td>\n",
       "      <td>Patient_3</td>\n",
       "      <td>64</td>\n",
       "      <td>Male</td>\n",
       "      <td>Asthma</td>\n",
       "      <td>50000.0</td>\n",
       "      <td>6.0</td>\n",
       "      <td>9192</td>\n",
       "      <td>False</td>\n",
       "    </tr>\n",
       "    <tr>\n",
       "      <th>3</th>\n",
       "      <td>10004</td>\n",
       "      <td>Patient_4</td>\n",
       "      <td>79</td>\n",
       "      <td>Female</td>\n",
       "      <td>Diabetes</td>\n",
       "      <td>50000.0</td>\n",
       "      <td>4.0</td>\n",
       "      <td>5505</td>\n",
       "      <td>True</td>\n",
       "    </tr>\n",
       "    <tr>\n",
       "      <th>4</th>\n",
       "      <td>10005</td>\n",
       "      <td>Patient_5</td>\n",
       "      <td>86</td>\n",
       "      <td>Male</td>\n",
       "      <td>Covid-19</td>\n",
       "      <td>120000.0</td>\n",
       "      <td>25.0</td>\n",
       "      <td>7881</td>\n",
       "      <td>True</td>\n",
       "    </tr>\n",
       "    <tr>\n",
       "      <th>...</th>\n",
       "      <td>...</td>\n",
       "      <td>...</td>\n",
       "      <td>...</td>\n",
       "      <td>...</td>\n",
       "      <td>...</td>\n",
       "      <td>...</td>\n",
       "      <td>...</td>\n",
       "      <td>...</td>\n",
       "      <td>...</td>\n",
       "    </tr>\n",
       "    <tr>\n",
       "      <th>9995</th>\n",
       "      <td>19996</td>\n",
       "      <td>Patient_9996</td>\n",
       "      <td>44</td>\n",
       "      <td>Female</td>\n",
       "      <td>NaN</td>\n",
       "      <td>90000.0</td>\n",
       "      <td>22.0</td>\n",
       "      <td>9608</td>\n",
       "      <td>False</td>\n",
       "    </tr>\n",
       "    <tr>\n",
       "      <th>9996</th>\n",
       "      <td>19997</td>\n",
       "      <td>Patient_9997</td>\n",
       "      <td>29</td>\n",
       "      <td>Male</td>\n",
       "      <td>Covid-19</td>\n",
       "      <td>50000.0</td>\n",
       "      <td>15.0</td>\n",
       "      <td>1316</td>\n",
       "      <td>False</td>\n",
       "    </tr>\n",
       "    <tr>\n",
       "      <th>9997</th>\n",
       "      <td>19998</td>\n",
       "      <td>Patient_9998</td>\n",
       "      <td>79</td>\n",
       "      <td>Female</td>\n",
       "      <td>Flu</td>\n",
       "      <td>70000.0</td>\n",
       "      <td>28.0</td>\n",
       "      <td>3963</td>\n",
       "      <td>False</td>\n",
       "    </tr>\n",
       "    <tr>\n",
       "      <th>9998</th>\n",
       "      <td>19999</td>\n",
       "      <td>Patient_9999</td>\n",
       "      <td>69</td>\n",
       "      <td>Female</td>\n",
       "      <td>Flu</td>\n",
       "      <td>150000.0</td>\n",
       "      <td>10.0</td>\n",
       "      <td>2091</td>\n",
       "      <td>True</td>\n",
       "    </tr>\n",
       "    <tr>\n",
       "      <th>9999</th>\n",
       "      <td>All Tests Negative</td>\n",
       "      <td>All Tests Negative</td>\n",
       "      <td>All Tests Negative</td>\n",
       "      <td>All Tests Negative</td>\n",
       "      <td>All Tests Negative</td>\n",
       "      <td>All Tests Negative</td>\n",
       "      <td>All Tests Negative</td>\n",
       "      <td>All Tests Negative</td>\n",
       "      <td>All Tests Negative</td>\n",
       "    </tr>\n",
       "  </tbody>\n",
       "</table>\n",
       "<p>10000 rows × 9 columns</p>\n",
       "</div>"
      ],
      "text/plain": [
       "              Patient_ID                Name                 Age  \\\n",
       "0     All Tests Negative  All Tests Negative  All Tests Negative   \n",
       "1                  10002           Patient_2                  86   \n",
       "2                  10003           Patient_3                  64   \n",
       "3                  10004           Patient_4                  79   \n",
       "4                  10005           Patient_5                  86   \n",
       "...                  ...                 ...                 ...   \n",
       "9995               19996        Patient_9996                  44   \n",
       "9996               19997        Patient_9997                  29   \n",
       "9997               19998        Patient_9998                  79   \n",
       "9998               19999        Patient_9999                  69   \n",
       "9999  All Tests Negative  All Tests Negative  All Tests Negative   \n",
       "\n",
       "                  Gender             Disease              Income  \\\n",
       "0     All Tests Negative  All Tests Negative  All Tests Negative   \n",
       "1                 Female              Asthma             90000.0   \n",
       "2                   Male              Asthma             50000.0   \n",
       "3                 Female            Diabetes             50000.0   \n",
       "4                   Male            Covid-19            120000.0   \n",
       "...                  ...                 ...                 ...   \n",
       "9995              Female                 NaN             90000.0   \n",
       "9996                Male            Covid-19             50000.0   \n",
       "9997              Female                 Flu             70000.0   \n",
       "9998              Female                 Flu            150000.0   \n",
       "9999  All Tests Negative  All Tests Negative  All Tests Negative   \n",
       "\n",
       "           Days_Admitted      Treatment_Cost          Discharged  \n",
       "0     All Tests Negative  All Tests Negative  All Tests Negative  \n",
       "1                   20.0                8126               False  \n",
       "2                    6.0                9192               False  \n",
       "3                    4.0                5505                True  \n",
       "4                   25.0                7881                True  \n",
       "...                  ...                 ...                 ...  \n",
       "9995                22.0                9608               False  \n",
       "9996                15.0                1316               False  \n",
       "9997                28.0                3963               False  \n",
       "9998                10.0                2091                True  \n",
       "9999  All Tests Negative  All Tests Negative  All Tests Negative  \n",
       "\n",
       "[10000 rows x 9 columns]"
      ]
     },
     "execution_count": 16,
     "metadata": {},
     "output_type": "execute_result"
    }
   ],
   "source": [
    "hospital_data_df"
   ]
  },
  {
   "cell_type": "code",
   "execution_count": 21,
   "metadata": {},
   "outputs": [
    {
     "data": {
      "text/plain": [
       "Patient_ID        False\n",
       "Name              False\n",
       "Age               False\n",
       "Gender            False\n",
       "Disease            True\n",
       "Income             True\n",
       "Days_Admitted      True\n",
       "Treatment_Cost    False\n",
       "Discharged        False\n",
       "dtype: bool"
      ]
     },
     "execution_count": 21,
     "metadata": {},
     "output_type": "execute_result"
    }
   ],
   "source": [
    "hospital_data_df.isnull().any()"
   ]
  },
  {
   "cell_type": "code",
   "execution_count": 34,
   "metadata": {},
   "outputs": [],
   "source": [
    "#now a common practice in data manipulation is to replace the missing data with the mean of the data column\n",
    "# for instance in the income column there are some data rows that have the missing values \n",
    "# income_data=hospital_data_df.loc[pd.isnull(hospital_data_df[\"Income\"])==False, \"Income\"].mean()\n",
    "income_data=hospital_data_df.loc[pd.isnull(hospital_data_df[\"Income\"])== False,\"Income\"].mean()"
   ]
  },
  {
   "cell_type": "code",
   "execution_count": 36,
   "metadata": {},
   "outputs": [
    {
     "data": {
      "text/plain": [
       "np.float64(90463.30326316961)"
      ]
     },
     "execution_count": 36,
     "metadata": {},
     "output_type": "execute_result"
    }
   ],
   "source": [
    "income_data"
   ]
  },
  {
   "cell_type": "code",
   "execution_count": 37,
   "metadata": {},
   "outputs": [],
   "source": [
    "income_data=hospital_data_df.describe()"
   ]
  },
  {
   "cell_type": "code",
   "execution_count": 40,
   "metadata": {},
   "outputs": [
    {
     "data": {
      "text/plain": [
       "np.float64(90463.30326316961)"
      ]
     },
     "execution_count": 40,
     "metadata": {},
     "output_type": "execute_result"
    }
   ],
   "source": [
    "income_data.at[\"mean\",\"Income\"]"
   ]
  },
  {
   "cell_type": "code",
   "execution_count": 41,
   "metadata": {},
   "outputs": [
    {
     "data": {
      "text/plain": [
       "np.float64(90463.30326316961)"
      ]
     },
     "execution_count": 41,
     "metadata": {},
     "output_type": "execute_result"
    }
   ],
   "source": [
    "hospital_data_df[\"Income\"].mean()"
   ]
  },
  {
   "cell_type": "code",
   "execution_count": 43,
   "metadata": {},
   "outputs": [],
   "source": [
    "hospital_data_df.loc[pd.isnull(hospital_data_df.Income),\"Income\"]=income_data.at[\"mean\",\"Income\"]"
   ]
  },
  {
   "cell_type": "code",
   "execution_count": 46,
   "metadata": {},
   "outputs": [
    {
     "data": {
      "text/plain": [
       "Patient_ID        False\n",
       "Name              False\n",
       "Age               False\n",
       "Gender            False\n",
       "Disease            True\n",
       "Income            False\n",
       "Days_Admitted      True\n",
       "Treatment_Cost    False\n",
       "Discharged        False\n",
       "dtype: bool"
      ]
     },
     "execution_count": 46,
     "metadata": {},
     "output_type": "execute_result"
    }
   ],
   "source": [
    "hospital_data_df.isnull().any()"
   ]
  },
  {
   "cell_type": "code",
   "execution_count": 53,
   "metadata": {},
   "outputs": [
    {
     "data": {
      "text/html": [
       "<div>\n",
       "<style scoped>\n",
       "    .dataframe tbody tr th:only-of-type {\n",
       "        vertical-align: middle;\n",
       "    }\n",
       "\n",
       "    .dataframe tbody tr th {\n",
       "        vertical-align: top;\n",
       "    }\n",
       "\n",
       "    .dataframe thead th {\n",
       "        text-align: right;\n",
       "    }\n",
       "</style>\n",
       "<table border=\"1\" class=\"dataframe\">\n",
       "  <thead>\n",
       "    <tr style=\"text-align: right;\">\n",
       "      <th></th>\n",
       "      <th>Patient_ID</th>\n",
       "      <th>Age</th>\n",
       "      <th>Income</th>\n",
       "      <th>Days_Admitted</th>\n",
       "      <th>Treatment_Cost</th>\n",
       "    </tr>\n",
       "  </thead>\n",
       "  <tbody>\n",
       "    <tr>\n",
       "      <th>count</th>\n",
       "      <td>242.000000</td>\n",
       "      <td>242.000000</td>\n",
       "      <td>242.000000</td>\n",
       "      <td>0.0</td>\n",
       "      <td>242.000000</td>\n",
       "    </tr>\n",
       "    <tr>\n",
       "      <th>mean</th>\n",
       "      <td>14762.739669</td>\n",
       "      <td>51.326446</td>\n",
       "      <td>91024.281634</td>\n",
       "      <td>NaN</td>\n",
       "      <td>5225.252066</td>\n",
       "    </tr>\n",
       "    <tr>\n",
       "      <th>std</th>\n",
       "      <td>2882.295772</td>\n",
       "      <td>20.059787</td>\n",
       "      <td>30003.440609</td>\n",
       "      <td>NaN</td>\n",
       "      <td>2650.069076</td>\n",
       "    </tr>\n",
       "    <tr>\n",
       "      <th>min</th>\n",
       "      <td>10042.000000</td>\n",
       "      <td>18.000000</td>\n",
       "      <td>50000.000000</td>\n",
       "      <td>NaN</td>\n",
       "      <td>1004.000000</td>\n",
       "    </tr>\n",
       "    <tr>\n",
       "      <th>25%</th>\n",
       "      <td>12135.750000</td>\n",
       "      <td>35.000000</td>\n",
       "      <td>70000.000000</td>\n",
       "      <td>NaN</td>\n",
       "      <td>2907.500000</td>\n",
       "    </tr>\n",
       "    <tr>\n",
       "      <th>50%</th>\n",
       "      <td>14935.500000</td>\n",
       "      <td>50.000000</td>\n",
       "      <td>90000.000000</td>\n",
       "      <td>NaN</td>\n",
       "      <td>5175.500000</td>\n",
       "    </tr>\n",
       "    <tr>\n",
       "      <th>75%</th>\n",
       "      <td>17262.250000</td>\n",
       "      <td>68.000000</td>\n",
       "      <td>120000.000000</td>\n",
       "      <td>NaN</td>\n",
       "      <td>7381.250000</td>\n",
       "    </tr>\n",
       "    <tr>\n",
       "      <th>max</th>\n",
       "      <td>19986.000000</td>\n",
       "      <td>89.000000</td>\n",
       "      <td>150000.000000</td>\n",
       "      <td>NaN</td>\n",
       "      <td>9986.000000</td>\n",
       "    </tr>\n",
       "  </tbody>\n",
       "</table>\n",
       "</div>"
      ],
      "text/plain": [
       "         Patient_ID         Age         Income  Days_Admitted  Treatment_Cost\n",
       "count    242.000000  242.000000     242.000000            0.0      242.000000\n",
       "mean   14762.739669   51.326446   91024.281634            NaN     5225.252066\n",
       "std     2882.295772   20.059787   30003.440609            NaN     2650.069076\n",
       "min    10042.000000   18.000000   50000.000000            NaN     1004.000000\n",
       "25%    12135.750000   35.000000   70000.000000            NaN     2907.500000\n",
       "50%    14935.500000   50.000000   90000.000000            NaN     5175.500000\n",
       "75%    17262.250000   68.000000  120000.000000            NaN     7381.250000\n",
       "max    19986.000000   89.000000  150000.000000            NaN     9986.000000"
      ]
     },
     "execution_count": 53,
     "metadata": {},
     "output_type": "execute_result"
    }
   ],
   "source": [
    "# now i want to see how may people are there who have days admitted field possessing the empty value and have also discharged not defined\n",
    "hospital_data_df.loc[(hospital_data_df[\"Discharged\"]==True)&(hospital_data_df.Days_Admitted.isnull())].describe()"
   ]
  },
  {
   "cell_type": "markdown",
   "metadata": {},
   "source": [
    "By above data i can say that there are 258 patients that are not discharged because they have not been admitted"
   ]
  }
 ],
 "metadata": {
  "kernelspec": {
   "display_name": "Python 3",
   "language": "python",
   "name": "python3"
  },
  "language_info": {
   "codemirror_mode": {
    "name": "ipython",
    "version": 3
   },
   "file_extension": ".py",
   "mimetype": "text/x-python",
   "name": "python",
   "nbconvert_exporter": "python",
   "pygments_lexer": "ipython3",
   "version": "3.10.14"
  }
 },
 "nbformat": 4,
 "nbformat_minor": 2
}
