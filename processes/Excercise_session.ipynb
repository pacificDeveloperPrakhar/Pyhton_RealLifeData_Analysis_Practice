{
 "cells": [
  {
   "cell_type": "code",
   "execution_count": 17,
   "metadata": {},
   "outputs": [],
   "source": [
    "import threading;\n",
    "import time;\n",
    "start=time.time()"
   ]
  },
  {
   "cell_type": "markdown",
   "metadata": {},
   "source": [
    "#### printing the name of the threads"
   ]
  },
  {
   "cell_type": "code",
   "execution_count": 3,
   "metadata": {},
   "outputs": [],
   "source": [
    "def print10():\n",
    "    for i in range(10):\n",
    "        time.sleep(1)\n",
    "        print(i)"
   ]
  },
  {
   "cell_type": "code",
   "execution_count": 15,
   "metadata": {},
   "outputs": [],
   "source": [
    "def printtime():\n",
    "    for i in range(10):\n",
    "        time.sleep(1)\n",
    "        print(\"time\",time.time()-start)"
   ]
  },
  {
   "cell_type": "code",
   "execution_count": 16,
   "metadata": {},
   "outputs": [
    {
     "name": "stdout",
     "output_type": "stream",
     "text": [
      "0time 24.650171995162964\n",
      "\n",
      "time1\n",
      " 25.66232132911682\n",
      "time2\n",
      " 26.683095693588257\n",
      "time3\n",
      " 0.2736170291900635\n",
      "4time 1.3077001571655273\n",
      "\n",
      "5time 2.3112471103668213\n",
      "\n",
      "6time 3.317805528640747\n",
      "\n",
      "7time 4.326232671737671\n",
      "\n",
      "8time 5.329250335693359\n",
      "\n",
      "9time 6.344656705856323\n",
      "\n"
     ]
    }
   ],
   "source": [
    "namethread=threading.Thread(target=print10)\n",
    "timethread=threading.Thread(target=printtime)\n",
    "namethread.start()\n",
    "timethread.start()"
   ]
  },
  {
   "cell_type": "code",
   "execution_count": 8,
   "metadata": {},
   "outputs": [
    {
     "name": "stdout",
     "output_type": "stream",
     "text": [
      "running the threads simultaneously\n"
     ]
    }
   ],
   "source": [
    "namethread.join()\n",
    "timethread.join()\n",
    "# join tells to stop the main thread execution while the othe parallel threads run\n",
    "print(\"running the threads simultaneously\")"
   ]
  }
 ],
 "metadata": {
  "kernelspec": {
   "display_name": "Python 3",
   "language": "python",
   "name": "python3"
  },
  "language_info": {
   "codemirror_mode": {
    "name": "ipython",
    "version": 3
   },
   "file_extension": ".py",
   "mimetype": "text/x-python",
   "name": "python",
   "nbconvert_exporter": "python",
   "pygments_lexer": "ipython3",
   "version": "3.10.14"
  }
 },
 "nbformat": 4,
 "nbformat_minor": 2
}
