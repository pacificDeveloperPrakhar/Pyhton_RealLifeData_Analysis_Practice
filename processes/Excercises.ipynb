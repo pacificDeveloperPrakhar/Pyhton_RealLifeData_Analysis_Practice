{
 "cells": [
  {
   "cell_type": "code",
   "execution_count": 2,
   "metadata": {},
   "outputs": [
    {
     "name": "stdout",
     "output_type": "stream",
     "text": [
      "1 A "
     ]
    },
    {
     "name": "stdout",
     "output_type": "stream",
     "text": [
      "B2  3C  4D  5E  F6  7G  H8  9I  J10  Main thread is continuing execution without waiting for threads.K \n"
     ]
    },
    {
     "name": "stdout",
     "output_type": "stream",
     "text": [
      "L M N O P Q R S T U V W X Y Z "
     ]
    }
   ],
   "source": [
    "import threading\n",
    "import time\n",
    "\n",
    "# Function to print numbers\n",
    "def print_numbers():\n",
    "    for i in range(1, 11):  # Printing numbers from 1 to 10\n",
    "        print(i, end=\" \", flush=True)\n",
    "        time.sleep(0.5)  # Pause for 0.5 seconds\n",
    "\n",
    "# Function to print letters\n",
    "def print_letters():\n",
    "    for letter in 'ABCDEFGHIJKLMNOPQRSTUVWXYZ':  # Printing letters A-Z\n",
    "        print(letter, end=\" \", flush=True)\n",
    "        time.sleep(0.5)  # Pause for 0.5 seconds\n",
    "\n",
    "# Create threads\n",
    "number_thread = threading.Thread(target=print_numbers)\n",
    "letter_thread = threading.Thread(target=print_letters)\n",
    "\n",
    "# Start both threads\n",
    "number_thread.start()\n",
    "letter_thread.start()\n",
    "# join will tell the main thread to stop until the another thread named number_thread stops its execution\n",
    "number_thread.join()\n",
    "# Main thread will continue running without waiting for number_thread and letter_thread to finish\n",
    "print(\"Main thread is continuing execution without waiting for threads.\")\n"
   ]
  }
 ],
 "metadata": {
  "kernelspec": {
   "display_name": "Python 3",
   "language": "python",
   "name": "python3"
  },
  "language_info": {
   "codemirror_mode": {
    "name": "ipython",
    "version": 3
   },
   "file_extension": ".py",
   "mimetype": "text/x-python",
   "name": "python",
   "nbconvert_exporter": "python",
   "pygments_lexer": "ipython3",
   "version": "3.10.14"
  }
 },
 "nbformat": 4,
 "nbformat_minor": 2
}
