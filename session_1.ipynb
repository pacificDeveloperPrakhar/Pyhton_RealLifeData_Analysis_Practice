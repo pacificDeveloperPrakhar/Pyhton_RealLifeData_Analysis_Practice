{
 "cells": [
  {
   "cell_type": "code",
   "execution_count": 1,
   "metadata": {},
   "outputs": [
    {
     "data": {
      "text/plain": [
       "3"
      ]
     },
     "execution_count": 1,
     "metadata": {},
     "output_type": "execute_result"
    }
   ],
   "source": [
    "1+2"
   ]
  },
  {
   "cell_type": "code",
   "execution_count": 2,
   "metadata": {},
   "outputs": [
    {
     "name": "stdout",
     "output_type": "stream",
     "text": [
      "20\n"
     ]
    }
   ],
   "source": [
    "print(4*5)"
   ]
  },
  {
   "cell_type": "markdown",
   "metadata": {},
   "source": [
    "<h1><font face=\"Comic Sans MS\" size=\"12\" >Numpy</font></h1>\n"
   ]
  },
  {
   "cell_type": "code",
   "execution_count": 3,
   "metadata": {},
   "outputs": [],
   "source": [
    "import numpy as np"
   ]
  },
  {
   "cell_type": "code",
   "execution_count": 4,
   "metadata": {},
   "outputs": [],
   "source": [
    "#creating a one dimensional array\n",
    "arr1=np.array([1,2,3,4,5])"
   ]
  },
  {
   "cell_type": "code",
   "execution_count": 5,
   "metadata": {},
   "outputs": [
    {
     "name": "stdout",
     "output_type": "stream",
     "text": [
      "<class 'numpy.ndarray'>\n"
     ]
    }
   ],
   "source": [
    "print(type(arr1))"
   ]
  },
  {
   "cell_type": "markdown",
   "metadata": {},
   "source": [
    "### checkint the size of an array"
   ]
  },
  {
   "cell_type": "code",
   "execution_count": 6,
   "metadata": {},
   "outputs": [
    {
     "name": "stdout",
     "output_type": "stream",
     "text": [
      "(5,)\n"
     ]
    }
   ],
   "source": [
    "print(arr1.shape)"
   ]
  },
  {
   "cell_type": "markdown",
   "metadata": {},
   "source": [
    "### reshaping\n",
    "<p>suppose you want to reshape the array for our instance we have now arr1 and i want to reshape it so i can\n",
    "call the reshape(number_of_rows,number_of_col) to reshape the array to defined number of rows and col\n",
    "</p>"
   ]
  },
  {
   "cell_type": "code",
   "execution_count": 7,
   "metadata": {},
   "outputs": [],
   "source": [
    "arr2=arr1.reshape(1,5)"
   ]
  },
  {
   "cell_type": "code",
   "execution_count": 8,
   "metadata": {},
   "outputs": [
    {
     "name": "stdout",
     "output_type": "stream",
     "text": [
      "[[1 2 3 4 5]]\n"
     ]
    }
   ],
   "source": [
    "print(arr2)"
   ]
  },
  {
   "cell_type": "code",
   "execution_count": 9,
   "metadata": {},
   "outputs": [
    {
     "data": {
      "text/plain": [
       "(array([1, 2, 3, 4, 5]),\n",
       " array([[1, 2, 3, 4, 5]]),\n",
       " array([[[1],\n",
       "         [2],\n",
       "         [3],\n",
       "         [4],\n",
       "         [5]]]),\n",
       " array([[[[1],\n",
       "          [2],\n",
       "          [3],\n",
       "          [4],\n",
       "          [5]]]]))"
      ]
     },
     "execution_count": 9,
     "metadata": {},
     "output_type": "execute_result"
    }
   ],
   "source": [
    "\n",
    "# Step 1: Create an array\n",
    "arr1 = np.array([1, 2, 3, 4, 5])\n",
    "\n",
    "# Step 2: Reshape it into 2D (as given)\n",
    "arr2 = arr1.reshape(1, 5)\n",
    "\n",
    "# Step 3: Reshape into 3 dimensions (with dimensions that are compatible)\n",
    "arr3 = arr1.reshape(1, 5, 1)\n",
    "\n",
    "# Step 4: Reshape into 4 dimensions\n",
    "arr4 = arr1.reshape(1, 1, 5, 1)\n",
    "\n",
    "arr1, arr2, arr3, arr4\n"
   ]
  },
  {
   "cell_type": "code",
   "execution_count": 10,
   "metadata": {},
   "outputs": [
    {
     "name": "stdout",
     "output_type": "stream",
     "text": [
      "[[1. 0. 0. 0.]\n",
      " [0. 1. 0. 0.]\n",
      " [0. 0. 1. 0.]\n",
      " [0. 0. 0. 1.]]\n"
     ]
    }
   ],
   "source": [
    "print(np.eye(4))"
   ]
  },
  {
   "cell_type": "code",
   "execution_count": 11,
   "metadata": {},
   "outputs": [],
   "source": [
    "arr3=np.ones((3,4,2))"
   ]
  },
  {
   "cell_type": "code",
   "execution_count": 12,
   "metadata": {},
   "outputs": [
    {
     "name": "stdout",
     "output_type": "stream",
     "text": [
      "24\n",
      "3\n",
      "8\n",
      "float64\n"
     ]
    }
   ],
   "source": [
    "## to print the size of an array\n",
    "print(arr3.size)\n",
    "## to print the dimension of an array\n",
    "print(arr3.ndim)\n",
    "## to print the size of each item contained in the array\n",
    "print(arr3.itemsize)\n",
    "##  to print the data type of the array \n",
    "print(arr3.dtype)"
   ]
  },
  {
   "cell_type": "code",
   "execution_count": 13,
   "metadata": {},
   "outputs": [
    {
     "name": "stdout",
     "output_type": "stream",
     "text": [
      "[1 2 3 4 5]\n"
     ]
    }
   ],
   "source": [
    "# this will give the array of 5 elements\n",
    "print(np.array([1,2,3,4,5]))"
   ]
  },
  {
   "cell_type": "markdown",
   "metadata": {},
   "source": [
    "## numpy array operations onto it\n",
    "<p>to perform operations on each element of the array,this will result into a new array</p>"
   ]
  },
  {
   "cell_type": "code",
   "execution_count": 14,
   "metadata": {},
   "outputs": [
    {
     "name": "stdout",
     "output_type": "stream",
     "text": [
      "[1.         1.41421356 1.73205081 2.         2.23606798]\n",
      "[  2.71828183   7.3890561   20.08553692  54.59815003 148.4131591 ]\n",
      "[ 0.84147098  0.90929743  0.14112001 -0.7568025  -0.95892427]\n"
     ]
    }
   ],
   "source": [
    "# to find the sqrt of each element in the array\n",
    "print(np.sqrt(arr1))\n",
    "# to find the exponent of each element in the array\n",
    "print(np.exp(arr1))\n",
    "# to find the sine of each element in the array\n",
    "print(np.sin(arr1))\n",
    "# to find the square of each element in the array\n"
   ]
  },
  {
   "cell_type": "code",
   "execution_count": 15,
   "metadata": {},
   "outputs": [
    {
     "name": "stdout",
     "output_type": "stream",
     "text": [
      "3.0\n"
     ]
    }
   ],
   "source": [
    "print(np.mean(arr1))"
   ]
  },
  {
   "cell_type": "code",
   "execution_count": 16,
   "metadata": {},
   "outputs": [
    {
     "name": "stdout",
     "output_type": "stream",
     "text": [
      "1.4142135623730951\n"
     ]
    }
   ],
   "source": [
    "# standard deviation of all element in the array\n",
    "print(np.std(arr1))"
   ]
  },
  {
   "cell_type": "markdown",
   "metadata": {},
   "source": [
    "### normalizing the data"
   ]
  },
  {
   "cell_type": "code",
   "execution_count": 17,
   "metadata": {},
   "outputs": [
    {
     "name": "stdout",
     "output_type": "stream",
     "text": [
      "[-0.06834699  1.0091232  -1.59610324  0.65532702]\n"
     ]
    }
   ],
   "source": [
    "data=[2,3.34,.1,2.9]\n",
    "std_of_data=np.std(data)\n",
    "mean_of_data=np.mean(data)\n",
    "print((data-mean_of_data)/std_of_data)\n"
   ]
  },
  {
   "cell_type": "markdown",
   "metadata": {},
   "source": [
    "## finding the median and variance of the data"
   ]
  },
  {
   "cell_type": "code",
   "execution_count": 18,
   "metadata": {},
   "outputs": [
    {
     "name": "stdout",
     "output_type": "stream",
     "text": [
      "2.45\n",
      "1.5466749999999998\n"
     ]
    }
   ],
   "source": [
    "print(np.median(data))\n",
    "# finding the variance of the data\n",
    "print(np.var(data))"
   ]
  },
  {
   "cell_type": "code",
   "execution_count": 19,
   "metadata": {},
   "outputs": [
    {
     "name": "stdout",
     "output_type": "stream",
     "text": [
      "[2, 3.34, 0.1, 2.9]\n"
     ]
    }
   ],
   "source": [
    "print(data)"
   ]
  },
  {
   "cell_type": "code",
   "execution_count": 20,
   "metadata": {},
   "outputs": [
    {
     "data": {
      "text/plain": [
       "array([-4, -3, -2, -1,  0])"
      ]
     },
     "execution_count": 20,
     "metadata": {},
     "output_type": "execute_result"
    }
   ],
   "source": [
    "arr1-5"
   ]
  },
  {
   "cell_type": "code",
   "execution_count": 21,
   "metadata": {},
   "outputs": [
    {
     "data": {
      "text/plain": [
       "array([3, 4, 5])"
      ]
     },
     "execution_count": 21,
     "metadata": {},
     "output_type": "execute_result"
    }
   ],
   "source": [
    "arr1[arr1>2]"
   ]
  },
  {
   "cell_type": "code",
   "execution_count": 22,
   "metadata": {},
   "outputs": [
    {
     "data": {
      "text/plain": [
       "array([3, 4])"
      ]
     },
     "execution_count": 22,
     "metadata": {},
     "output_type": "execute_result"
    }
   ],
   "source": [
    "arr1[(arr1>2) & (arr1<5)]"
   ]
  },
  {
   "cell_type": "markdown",
   "metadata": {},
   "source": [
    "#### this is to show that numpy is not hetereogenous it is rather homogeneous meaning it can store only certain type of data throught out the table"
   ]
  },
  {
   "cell_type": "code",
   "execution_count": 23,
   "metadata": {},
   "outputs": [
    {
     "data": {
      "text/plain": [
       "array(['23', '13', '12', '90', '17', 'w'], dtype='<U21')"
      ]
     },
     "execution_count": 23,
     "metadata": {},
     "output_type": "execute_result"
    }
   ],
   "source": [
    "np.array([23,13,12,90,17,'w'])"
   ]
  },
  {
   "cell_type": "markdown",
   "metadata": {},
   "source": [
    "## Pandas\n",
    "### pandas is used for high level requirement,it is heterogenous tabular data storing,it contains series and data frame data structure\n",
    "### data frame is 2d and series is 1d"
   ]
  },
  {
   "cell_type": "code",
   "execution_count": 24,
   "metadata": {},
   "outputs": [
    {
     "name": "stdout",
     "output_type": "stream",
     "text": [
      "0     1\n",
      "1     9\n",
      "2    10\n",
      "3    11\n",
      "4    23\n",
      "5    21\n",
      "dtype: int64\n"
     ]
    }
   ],
   "source": [
    "import pandas as pd\n",
    "series=pd.Series([1,9,10,11,23,21])\n",
    "print(series)"
   ]
  },
  {
   "cell_type": "code",
   "execution_count": 25,
   "metadata": {},
   "outputs": [
    {
     "name": "stdout",
     "output_type": "stream",
     "text": [
      "     name  age  weight\n",
      "0    john   12     123\n",
      "1    jack   23     321\n",
      "2  andrew   14     890\n",
      "3   elvis   15     234\n"
     ]
    }
   ],
   "source": [
    "#creating a dataframe using dictionary of list\n",
    "dataF1=pd.DataFrame({'name':[\"john\",\"jack\",\"andrew\",\"elvis\"],\n",
    "                     'age':[12,23,14,15],\n",
    "                     'weight':[123,321,890,234]})\n",
    "print(dataF1)"
   ]
  },
  {
   "cell_type": "markdown",
   "metadata": {},
   "source": [
    "<p>creating data frame using list of dictionary</p>"
   ]
  },
  {
   "cell_type": "code",
   "execution_count": 26,
   "metadata": {},
   "outputs": [],
   "source": [
    "dataF2=pd.DataFrame([{'name':\"mark\",'age':23,'occupation':'software engineer'},\n",
    "                     {'name':\"drake\",'age':20,'occupation':'tester'},\n",
    "                     {'name':\"mark\",'age':24,'occupation':'dev ops'},\n",
    "                     {'name':\"prakhar\",'age':23,'occupation':'data science engineer'},\n",
    "                     {'name':\"henry\",'age':23,'occupation':'full stack engineer'}\n",
    "                     ])"
   ]
  },
  {
   "cell_type": "code",
   "execution_count": 27,
   "metadata": {},
   "outputs": [
    {
     "name": "stdout",
     "output_type": "stream",
     "text": [
      "      name  age             occupation\n",
      "0     mark   23      software engineer\n",
      "1    drake   20                 tester\n",
      "2     mark   24                dev ops\n",
      "3  prakhar   23  data science engineer\n",
      "4    henry   23    full stack engineer\n"
     ]
    }
   ],
   "source": [
    "print(dataF2)"
   ]
  },
  {
   "cell_type": "markdown",
   "metadata": {},
   "source": [
    "#### reading csv file"
   ]
  },
  {
   "cell_type": "code",
   "execution_count": 28,
   "metadata": {},
   "outputs": [],
   "source": [
    "df=pd.read_csv(\"./people_info.csv\")"
   ]
  },
  {
   "cell_type": "code",
   "execution_count": 29,
   "metadata": {},
   "outputs": [
    {
     "data": {
      "text/plain": [
       "name                        prakhar\n",
       "age                              23\n",
       "occupation    data science engineer\n",
       "Name: 3, dtype: object"
      ]
     },
     "execution_count": 29,
     "metadata": {},
     "output_type": "execute_result"
    }
   ],
   "source": [
    "df.loc[3]"
   ]
  },
  {
   "cell_type": "code",
   "execution_count": 30,
   "metadata": {},
   "outputs": [
    {
     "name": "stderr",
     "output_type": "stream",
     "text": [
      "C:\\Users\\Pragya\\AppData\\Local\\Temp\\ipykernel_14824\\1723490747.py:1: FutureWarning: Series.__getitem__ treating keys as positions is deprecated. In a future version, integer keys will always be treated as labels (consistent with DataFrame behavior). To access a value by position, use `ser.iloc[pos]`\n",
      "  df.iloc[1][1]\n"
     ]
    },
    {
     "data": {
      "text/plain": [
       "np.int64(20)"
      ]
     },
     "execution_count": 30,
     "metadata": {},
     "output_type": "execute_result"
    }
   ],
   "source": [
    "df.iloc[1][1]"
   ]
  },
  {
   "cell_type": "code",
   "execution_count": 31,
   "metadata": {},
   "outputs": [
    {
     "data": {
      "text/html": [
       "<div>\n",
       "<style scoped>\n",
       "    .dataframe tbody tr th:only-of-type {\n",
       "        vertical-align: middle;\n",
       "    }\n",
       "\n",
       "    .dataframe tbody tr th {\n",
       "        vertical-align: top;\n",
       "    }\n",
       "\n",
       "    .dataframe thead th {\n",
       "        text-align: right;\n",
       "    }\n",
       "</style>\n",
       "<table border=\"1\" class=\"dataframe\">\n",
       "  <thead>\n",
       "    <tr style=\"text-align: right;\">\n",
       "      <th></th>\n",
       "      <th>name</th>\n",
       "      <th>age</th>\n",
       "      <th>occupation</th>\n",
       "    </tr>\n",
       "  </thead>\n",
       "  <tbody>\n",
       "    <tr>\n",
       "      <th>0</th>\n",
       "      <td>mark</td>\n",
       "      <td>23</td>\n",
       "      <td>software engineer</td>\n",
       "    </tr>\n",
       "    <tr>\n",
       "      <th>1</th>\n",
       "      <td>drake</td>\n",
       "      <td>20</td>\n",
       "      <td>tester</td>\n",
       "    </tr>\n",
       "    <tr>\n",
       "      <th>2</th>\n",
       "      <td>mark</td>\n",
       "      <td>24</td>\n",
       "      <td>dev ops</td>\n",
       "    </tr>\n",
       "  </tbody>\n",
       "</table>\n",
       "</div>"
      ],
      "text/plain": [
       "    name  age         occupation\n",
       "0   mark   23  software engineer\n",
       "1  drake   20             tester\n",
       "2   mark   24            dev ops"
      ]
     },
     "execution_count": 31,
     "metadata": {},
     "output_type": "execute_result"
    }
   ],
   "source": [
    "df.loc[0:2]"
   ]
  },
  {
   "cell_type": "markdown",
   "metadata": {},
   "source": [
    "###  loc and iloc  \n",
    "<p>loc is labeled base and it can accept boolean value as well ,unlike iloc which cannot accept the boolean values</p>"
   ]
  },
  {
   "cell_type": "code",
   "execution_count": 32,
   "metadata": {},
   "outputs": [
    {
     "data": {
      "text/html": [
       "<div>\n",
       "<style scoped>\n",
       "    .dataframe tbody tr th:only-of-type {\n",
       "        vertical-align: middle;\n",
       "    }\n",
       "\n",
       "    .dataframe tbody tr th {\n",
       "        vertical-align: top;\n",
       "    }\n",
       "\n",
       "    .dataframe thead th {\n",
       "        text-align: right;\n",
       "    }\n",
       "</style>\n",
       "<table border=\"1\" class=\"dataframe\">\n",
       "  <thead>\n",
       "    <tr style=\"text-align: right;\">\n",
       "      <th></th>\n",
       "      <th>name</th>\n",
       "      <th>age</th>\n",
       "      <th>occupation</th>\n",
       "    </tr>\n",
       "  </thead>\n",
       "  <tbody>\n",
       "    <tr>\n",
       "      <th>2</th>\n",
       "      <td>mark</td>\n",
       "      <td>24</td>\n",
       "      <td>dev ops</td>\n",
       "    </tr>\n",
       "  </tbody>\n",
       "</table>\n",
       "</div>"
      ],
      "text/plain": [
       "   name  age occupation\n",
       "2  mark   24    dev ops"
      ]
     },
     "execution_count": 32,
     "metadata": {},
     "output_type": "execute_result"
    }
   ],
   "source": [
    "df.loc[df.age>23]"
   ]
  },
  {
   "cell_type": "code",
   "execution_count": 33,
   "metadata": {},
   "outputs": [],
   "source": [
    "df.loc[df.name==\"prakhar\",['occupation']]=\"machine learning\""
   ]
  },
  {
   "cell_type": "code",
   "execution_count": 34,
   "metadata": {},
   "outputs": [
    {
     "data": {
      "text/html": [
       "<div>\n",
       "<style scoped>\n",
       "    .dataframe tbody tr th:only-of-type {\n",
       "        vertical-align: middle;\n",
       "    }\n",
       "\n",
       "    .dataframe tbody tr th {\n",
       "        vertical-align: top;\n",
       "    }\n",
       "\n",
       "    .dataframe thead th {\n",
       "        text-align: right;\n",
       "    }\n",
       "</style>\n",
       "<table border=\"1\" class=\"dataframe\">\n",
       "  <thead>\n",
       "    <tr style=\"text-align: right;\">\n",
       "      <th></th>\n",
       "      <th>name</th>\n",
       "      <th>age</th>\n",
       "      <th>occupation</th>\n",
       "    </tr>\n",
       "  </thead>\n",
       "  <tbody>\n",
       "    <tr>\n",
       "      <th>0</th>\n",
       "      <td>mark</td>\n",
       "      <td>23</td>\n",
       "      <td>software engineer</td>\n",
       "    </tr>\n",
       "    <tr>\n",
       "      <th>1</th>\n",
       "      <td>drake</td>\n",
       "      <td>20</td>\n",
       "      <td>tester</td>\n",
       "    </tr>\n",
       "    <tr>\n",
       "      <th>2</th>\n",
       "      <td>mark</td>\n",
       "      <td>24</td>\n",
       "      <td>dev ops</td>\n",
       "    </tr>\n",
       "    <tr>\n",
       "      <th>3</th>\n",
       "      <td>prakhar</td>\n",
       "      <td>23</td>\n",
       "      <td>machine learning</td>\n",
       "    </tr>\n",
       "    <tr>\n",
       "      <th>4</th>\n",
       "      <td>henry</td>\n",
       "      <td>23</td>\n",
       "      <td>full stack engineer</td>\n",
       "    </tr>\n",
       "  </tbody>\n",
       "</table>\n",
       "</div>"
      ],
      "text/plain": [
       "      name  age           occupation\n",
       "0     mark   23    software engineer\n",
       "1    drake   20               tester\n",
       "2     mark   24              dev ops\n",
       "3  prakhar   23     machine learning\n",
       "4    henry   23  full stack engineer"
      ]
     },
     "execution_count": 34,
     "metadata": {},
     "output_type": "execute_result"
    }
   ],
   "source": [
    "df"
   ]
  },
  {
   "cell_type": "markdown",
   "metadata": {},
   "source": [
    "<p>iloc is index based </p>"
   ]
  },
  {
   "cell_type": "code",
   "execution_count": 35,
   "metadata": {},
   "outputs": [
    {
     "data": {
      "text/html": [
       "<div>\n",
       "<style scoped>\n",
       "    .dataframe tbody tr th:only-of-type {\n",
       "        vertical-align: middle;\n",
       "    }\n",
       "\n",
       "    .dataframe tbody tr th {\n",
       "        vertical-align: top;\n",
       "    }\n",
       "\n",
       "    .dataframe thead th {\n",
       "        text-align: right;\n",
       "    }\n",
       "</style>\n",
       "<table border=\"1\" class=\"dataframe\">\n",
       "  <thead>\n",
       "    <tr style=\"text-align: right;\">\n",
       "      <th></th>\n",
       "      <th>age</th>\n",
       "      <th>occupation</th>\n",
       "    </tr>\n",
       "  </thead>\n",
       "  <tbody>\n",
       "    <tr>\n",
       "      <th>1</th>\n",
       "      <td>20</td>\n",
       "      <td>tester</td>\n",
       "    </tr>\n",
       "    <tr>\n",
       "      <th>2</th>\n",
       "      <td>24</td>\n",
       "      <td>dev ops</td>\n",
       "    </tr>\n",
       "  </tbody>\n",
       "</table>\n",
       "</div>"
      ],
      "text/plain": [
       "   age occupation\n",
       "1   20     tester\n",
       "2   24    dev ops"
      ]
     },
     "execution_count": 35,
     "metadata": {},
     "output_type": "execute_result"
    }
   ],
   "source": [
    "df.iloc[1:3,1:3]"
   ]
  },
  {
   "cell_type": "code",
   "execution_count": 36,
   "metadata": {},
   "outputs": [
    {
     "data": {
      "text/plain": [
       "0       mark\n",
       "1      drake\n",
       "2       mark\n",
       "3    prakhar\n",
       "4      henry\n",
       "Name: name, dtype: object"
      ]
     },
     "execution_count": 36,
     "metadata": {},
     "output_type": "execute_result"
    }
   ],
   "source": [
    "# when acessing a single whole column then it will result in a series\n",
    "df['name']"
   ]
  },
  {
   "cell_type": "code",
   "execution_count": 37,
   "metadata": {},
   "outputs": [
    {
     "data": {
      "text/plain": [
       "0    23\n",
       "1    20\n",
       "2    24\n",
       "3    23\n",
       "4    23\n",
       "Name: age, dtype: int64"
      ]
     },
     "execution_count": 37,
     "metadata": {},
     "output_type": "execute_result"
    }
   ],
   "source": [
    "df['age']"
   ]
  },
  {
   "cell_type": "code",
   "execution_count": 38,
   "metadata": {},
   "outputs": [
    {
     "data": {
      "text/plain": [
       "pandas.core.series.Series"
      ]
     },
     "execution_count": 38,
     "metadata": {},
     "output_type": "execute_result"
    }
   ],
   "source": [
    "type(df['name'])"
   ]
  },
  {
   "cell_type": "markdown",
   "metadata": {},
   "source": [
    "applying the lmbda function on each element of the row or column "
   ]
  },
  {
   "cell_type": "code",
   "execution_count": 39,
   "metadata": {},
   "outputs": [
    {
     "data": {
      "text/plain": [
       "0    46\n",
       "1    40\n",
       "2    48\n",
       "3    46\n",
       "4    46\n",
       "Name: age, dtype: int64"
      ]
     },
     "execution_count": 39,
     "metadata": {},
     "output_type": "execute_result"
    }
   ],
   "source": [
    "df['age'].apply(lambda x:x*2)"
   ]
  },
  {
   "cell_type": "markdown",
   "metadata": {},
   "source": [
    "#### i can also write a combination of label and index to acess the value in the data frame"
   ]
  },
  {
   "cell_type": "code",
   "execution_count": 40,
   "metadata": {},
   "outputs": [
    {
     "data": {
      "text/plain": [
       "np.int64(24)"
      ]
     },
     "execution_count": 40,
     "metadata": {},
     "output_type": "execute_result"
    }
   ],
   "source": [
    "df.loc[df[\"name\"]==\"prakhar\",'age']\n",
    "df.loc[2,\"age\"]"
   ]
  },
  {
   "cell_type": "code",
   "execution_count": 41,
   "metadata": {},
   "outputs": [
    {
     "data": {
      "text/html": [
       "<div>\n",
       "<style scoped>\n",
       "    .dataframe tbody tr th:only-of-type {\n",
       "        vertical-align: middle;\n",
       "    }\n",
       "\n",
       "    .dataframe tbody tr th {\n",
       "        vertical-align: top;\n",
       "    }\n",
       "\n",
       "    .dataframe thead th {\n",
       "        text-align: right;\n",
       "    }\n",
       "</style>\n",
       "<table border=\"1\" class=\"dataframe\">\n",
       "  <thead>\n",
       "    <tr style=\"text-align: right;\">\n",
       "      <th></th>\n",
       "      <th>name</th>\n",
       "      <th>age</th>\n",
       "      <th>occupation</th>\n",
       "    </tr>\n",
       "  </thead>\n",
       "  <tbody>\n",
       "    <tr>\n",
       "      <th>0</th>\n",
       "      <td>mark</td>\n",
       "      <td>23</td>\n",
       "      <td>software engineer</td>\n",
       "    </tr>\n",
       "    <tr>\n",
       "      <th>1</th>\n",
       "      <td>drake</td>\n",
       "      <td>20</td>\n",
       "      <td>tester</td>\n",
       "    </tr>\n",
       "    <tr>\n",
       "      <th>2</th>\n",
       "      <td>mark</td>\n",
       "      <td>24</td>\n",
       "      <td>dev ops</td>\n",
       "    </tr>\n",
       "    <tr>\n",
       "      <th>3</th>\n",
       "      <td>prakhar</td>\n",
       "      <td>23</td>\n",
       "      <td>machine learning</td>\n",
       "    </tr>\n",
       "    <tr>\n",
       "      <th>4</th>\n",
       "      <td>henry</td>\n",
       "      <td>23</td>\n",
       "      <td>full stack engineer</td>\n",
       "    </tr>\n",
       "  </tbody>\n",
       "</table>\n",
       "</div>"
      ],
      "text/plain": [
       "      name  age           occupation\n",
       "0     mark   23    software engineer\n",
       "1    drake   20               tester\n",
       "2     mark   24              dev ops\n",
       "3  prakhar   23     machine learning\n",
       "4    henry   23  full stack engineer"
      ]
     },
     "execution_count": 41,
     "metadata": {},
     "output_type": "execute_result"
    }
   ],
   "source": [
    "df"
   ]
  },
  {
   "cell_type": "code",
   "execution_count": 43,
   "metadata": {},
   "outputs": [],
   "source": [
    "df[\"salary\"]=[20000,30000,12300,120000,100000]"
   ]
  },
  {
   "cell_type": "code",
   "execution_count": 44,
   "metadata": {},
   "outputs": [
    {
     "data": {
      "text/html": [
       "<div>\n",
       "<style scoped>\n",
       "    .dataframe tbody tr th:only-of-type {\n",
       "        vertical-align: middle;\n",
       "    }\n",
       "\n",
       "    .dataframe tbody tr th {\n",
       "        vertical-align: top;\n",
       "    }\n",
       "\n",
       "    .dataframe thead th {\n",
       "        text-align: right;\n",
       "    }\n",
       "</style>\n",
       "<table border=\"1\" class=\"dataframe\">\n",
       "  <thead>\n",
       "    <tr style=\"text-align: right;\">\n",
       "      <th></th>\n",
       "      <th>name</th>\n",
       "      <th>age</th>\n",
       "      <th>occupation</th>\n",
       "      <th>salary</th>\n",
       "    </tr>\n",
       "  </thead>\n",
       "  <tbody>\n",
       "    <tr>\n",
       "      <th>0</th>\n",
       "      <td>mark</td>\n",
       "      <td>23</td>\n",
       "      <td>software engineer</td>\n",
       "      <td>20000</td>\n",
       "    </tr>\n",
       "    <tr>\n",
       "      <th>1</th>\n",
       "      <td>drake</td>\n",
       "      <td>20</td>\n",
       "      <td>tester</td>\n",
       "      <td>30000</td>\n",
       "    </tr>\n",
       "    <tr>\n",
       "      <th>2</th>\n",
       "      <td>mark</td>\n",
       "      <td>24</td>\n",
       "      <td>dev ops</td>\n",
       "      <td>12300</td>\n",
       "    </tr>\n",
       "    <tr>\n",
       "      <th>3</th>\n",
       "      <td>prakhar</td>\n",
       "      <td>23</td>\n",
       "      <td>machine learning</td>\n",
       "      <td>120000</td>\n",
       "    </tr>\n",
       "    <tr>\n",
       "      <th>4</th>\n",
       "      <td>henry</td>\n",
       "      <td>23</td>\n",
       "      <td>full stack engineer</td>\n",
       "      <td>100000</td>\n",
       "    </tr>\n",
       "  </tbody>\n",
       "</table>\n",
       "</div>"
      ],
      "text/plain": [
       "      name  age           occupation  salary\n",
       "0     mark   23    software engineer   20000\n",
       "1    drake   20               tester   30000\n",
       "2     mark   24              dev ops   12300\n",
       "3  prakhar   23     machine learning  120000\n",
       "4    henry   23  full stack engineer  100000"
      ]
     },
     "execution_count": 44,
     "metadata": {},
     "output_type": "execute_result"
    }
   ],
   "source": [
    "df"
   ]
  },
  {
   "cell_type": "code",
   "execution_count": 48,
   "metadata": {},
   "outputs": [
    {
     "data": {
      "text/html": [
       "<div>\n",
       "<style scoped>\n",
       "    .dataframe tbody tr th:only-of-type {\n",
       "        vertical-align: middle;\n",
       "    }\n",
       "\n",
       "    .dataframe tbody tr th {\n",
       "        vertical-align: top;\n",
       "    }\n",
       "\n",
       "    .dataframe thead th {\n",
       "        text-align: right;\n",
       "    }\n",
       "</style>\n",
       "<table border=\"1\" class=\"dataframe\">\n",
       "  <thead>\n",
       "    <tr style=\"text-align: right;\">\n",
       "      <th></th>\n",
       "      <th>name</th>\n",
       "      <th>age</th>\n",
       "      <th>occupation</th>\n",
       "    </tr>\n",
       "  </thead>\n",
       "  <tbody>\n",
       "    <tr>\n",
       "      <th>0</th>\n",
       "      <td>mark</td>\n",
       "      <td>23</td>\n",
       "      <td>software engineer</td>\n",
       "    </tr>\n",
       "    <tr>\n",
       "      <th>1</th>\n",
       "      <td>drake</td>\n",
       "      <td>20</td>\n",
       "      <td>tester</td>\n",
       "    </tr>\n",
       "    <tr>\n",
       "      <th>2</th>\n",
       "      <td>mark</td>\n",
       "      <td>24</td>\n",
       "      <td>dev ops</td>\n",
       "    </tr>\n",
       "    <tr>\n",
       "      <th>3</th>\n",
       "      <td>prakhar</td>\n",
       "      <td>23</td>\n",
       "      <td>machine learning</td>\n",
       "    </tr>\n",
       "    <tr>\n",
       "      <th>4</th>\n",
       "      <td>henry</td>\n",
       "      <td>23</td>\n",
       "      <td>full stack engineer</td>\n",
       "    </tr>\n",
       "  </tbody>\n",
       "</table>\n",
       "</div>"
      ],
      "text/plain": [
       "      name  age           occupation\n",
       "0     mark   23    software engineer\n",
       "1    drake   20               tester\n",
       "2     mark   24              dev ops\n",
       "3  prakhar   23     machine learning\n",
       "4    henry   23  full stack engineer"
      ]
     },
     "execution_count": 48,
     "metadata": {},
     "output_type": "execute_result"
    }
   ],
   "source": [
    "df.drop(\"salary\",axis=1)"
   ]
  },
  {
   "cell_type": "code",
   "execution_count": 49,
   "metadata": {},
   "outputs": [
    {
     "data": {
      "text/html": [
       "<div>\n",
       "<style scoped>\n",
       "    .dataframe tbody tr th:only-of-type {\n",
       "        vertical-align: middle;\n",
       "    }\n",
       "\n",
       "    .dataframe tbody tr th {\n",
       "        vertical-align: top;\n",
       "    }\n",
       "\n",
       "    .dataframe thead th {\n",
       "        text-align: right;\n",
       "    }\n",
       "</style>\n",
       "<table border=\"1\" class=\"dataframe\">\n",
       "  <thead>\n",
       "    <tr style=\"text-align: right;\">\n",
       "      <th></th>\n",
       "      <th>name</th>\n",
       "      <th>age</th>\n",
       "      <th>occupation</th>\n",
       "    </tr>\n",
       "  </thead>\n",
       "  <tbody>\n",
       "    <tr>\n",
       "      <th>0</th>\n",
       "      <td>mark</td>\n",
       "      <td>23</td>\n",
       "      <td>software engineer</td>\n",
       "    </tr>\n",
       "    <tr>\n",
       "      <th>1</th>\n",
       "      <td>drake</td>\n",
       "      <td>20</td>\n",
       "      <td>tester</td>\n",
       "    </tr>\n",
       "    <tr>\n",
       "      <th>2</th>\n",
       "      <td>mark</td>\n",
       "      <td>24</td>\n",
       "      <td>dev ops</td>\n",
       "    </tr>\n",
       "    <tr>\n",
       "      <th>3</th>\n",
       "      <td>prakhar</td>\n",
       "      <td>23</td>\n",
       "      <td>machine learning</td>\n",
       "    </tr>\n",
       "    <tr>\n",
       "      <th>4</th>\n",
       "      <td>henry</td>\n",
       "      <td>23</td>\n",
       "      <td>full stack engineer</td>\n",
       "    </tr>\n",
       "  </tbody>\n",
       "</table>\n",
       "</div>"
      ],
      "text/plain": [
       "      name  age           occupation\n",
       "0     mark   23    software engineer\n",
       "1    drake   20               tester\n",
       "2     mark   24              dev ops\n",
       "3  prakhar   23     machine learning\n",
       "4    henry   23  full stack engineer"
      ]
     },
     "execution_count": 49,
     "metadata": {},
     "output_type": "execute_result"
    }
   ],
   "source": [
    "df.drop([\"salary\"],axis=1)"
   ]
  },
  {
   "cell_type": "code",
   "execution_count": 51,
   "metadata": {},
   "outputs": [],
   "source": [
    "df.drop([\"salary\"],axis=1,inplace=True)"
   ]
  },
  {
   "cell_type": "markdown",
   "metadata": {},
   "source": [
    "### simple modification to data frame"
   ]
  },
  {
   "cell_type": "code",
   "execution_count": 54,
   "metadata": {},
   "outputs": [],
   "source": [
    "df[\"salary\"]=[20000,30000,12300,120000,100000]"
   ]
  },
  {
   "cell_type": "code",
   "execution_count": 55,
   "metadata": {},
   "outputs": [
    {
     "data": {
      "text/html": [
       "<div>\n",
       "<style scoped>\n",
       "    .dataframe tbody tr th:only-of-type {\n",
       "        vertical-align: middle;\n",
       "    }\n",
       "\n",
       "    .dataframe tbody tr th {\n",
       "        vertical-align: top;\n",
       "    }\n",
       "\n",
       "    .dataframe thead th {\n",
       "        text-align: right;\n",
       "    }\n",
       "</style>\n",
       "<table border=\"1\" class=\"dataframe\">\n",
       "  <thead>\n",
       "    <tr style=\"text-align: right;\">\n",
       "      <th></th>\n",
       "      <th>name</th>\n",
       "      <th>age</th>\n",
       "      <th>occupation</th>\n",
       "      <th>salary</th>\n",
       "    </tr>\n",
       "  </thead>\n",
       "  <tbody>\n",
       "    <tr>\n",
       "      <th>0</th>\n",
       "      <td>mark</td>\n",
       "      <td>23</td>\n",
       "      <td>software engineer</td>\n",
       "      <td>20000</td>\n",
       "    </tr>\n",
       "    <tr>\n",
       "      <th>1</th>\n",
       "      <td>drake</td>\n",
       "      <td>20</td>\n",
       "      <td>tester</td>\n",
       "      <td>30000</td>\n",
       "    </tr>\n",
       "    <tr>\n",
       "      <th>2</th>\n",
       "      <td>mark</td>\n",
       "      <td>24</td>\n",
       "      <td>dev ops</td>\n",
       "      <td>12300</td>\n",
       "    </tr>\n",
       "    <tr>\n",
       "      <th>3</th>\n",
       "      <td>prakhar</td>\n",
       "      <td>23</td>\n",
       "      <td>machine learning</td>\n",
       "      <td>120000</td>\n",
       "    </tr>\n",
       "    <tr>\n",
       "      <th>4</th>\n",
       "      <td>henry</td>\n",
       "      <td>23</td>\n",
       "      <td>full stack engineer</td>\n",
       "      <td>100000</td>\n",
       "    </tr>\n",
       "  </tbody>\n",
       "</table>\n",
       "</div>"
      ],
      "text/plain": [
       "      name  age           occupation  salary\n",
       "0     mark   23    software engineer   20000\n",
       "1    drake   20               tester   30000\n",
       "2     mark   24              dev ops   12300\n",
       "3  prakhar   23     machine learning  120000\n",
       "4    henry   23  full stack engineer  100000"
      ]
     },
     "execution_count": 55,
     "metadata": {},
     "output_type": "execute_result"
    }
   ],
   "source": [
    "df"
   ]
  },
  {
   "cell_type": "code",
   "execution_count": 56,
   "metadata": {},
   "outputs": [],
   "source": [
    "df[\"salary\"]=df[\"salary\"]+10000"
   ]
  },
  {
   "cell_type": "code",
   "execution_count": 57,
   "metadata": {},
   "outputs": [
    {
     "data": {
      "text/html": [
       "<div>\n",
       "<style scoped>\n",
       "    .dataframe tbody tr th:only-of-type {\n",
       "        vertical-align: middle;\n",
       "    }\n",
       "\n",
       "    .dataframe tbody tr th {\n",
       "        vertical-align: top;\n",
       "    }\n",
       "\n",
       "    .dataframe thead th {\n",
       "        text-align: right;\n",
       "    }\n",
       "</style>\n",
       "<table border=\"1\" class=\"dataframe\">\n",
       "  <thead>\n",
       "    <tr style=\"text-align: right;\">\n",
       "      <th></th>\n",
       "      <th>name</th>\n",
       "      <th>age</th>\n",
       "      <th>occupation</th>\n",
       "      <th>salary</th>\n",
       "    </tr>\n",
       "  </thead>\n",
       "  <tbody>\n",
       "    <tr>\n",
       "      <th>0</th>\n",
       "      <td>mark</td>\n",
       "      <td>23</td>\n",
       "      <td>software engineer</td>\n",
       "      <td>30000</td>\n",
       "    </tr>\n",
       "    <tr>\n",
       "      <th>1</th>\n",
       "      <td>drake</td>\n",
       "      <td>20</td>\n",
       "      <td>tester</td>\n",
       "      <td>40000</td>\n",
       "    </tr>\n",
       "    <tr>\n",
       "      <th>2</th>\n",
       "      <td>mark</td>\n",
       "      <td>24</td>\n",
       "      <td>dev ops</td>\n",
       "      <td>22300</td>\n",
       "    </tr>\n",
       "    <tr>\n",
       "      <th>3</th>\n",
       "      <td>prakhar</td>\n",
       "      <td>23</td>\n",
       "      <td>machine learning</td>\n",
       "      <td>130000</td>\n",
       "    </tr>\n",
       "    <tr>\n",
       "      <th>4</th>\n",
       "      <td>henry</td>\n",
       "      <td>23</td>\n",
       "      <td>full stack engineer</td>\n",
       "      <td>110000</td>\n",
       "    </tr>\n",
       "  </tbody>\n",
       "</table>\n",
       "</div>"
      ],
      "text/plain": [
       "      name  age           occupation  salary\n",
       "0     mark   23    software engineer   30000\n",
       "1    drake   20               tester   40000\n",
       "2     mark   24              dev ops   22300\n",
       "3  prakhar   23     machine learning  130000\n",
       "4    henry   23  full stack engineer  110000"
      ]
     },
     "execution_count": 57,
     "metadata": {},
     "output_type": "execute_result"
    }
   ],
   "source": [
    "df"
   ]
  },
  {
   "cell_type": "code",
   "execution_count": 58,
   "metadata": {},
   "outputs": [
    {
     "data": {
      "text/html": [
       "<div>\n",
       "<style scoped>\n",
       "    .dataframe tbody tr th:only-of-type {\n",
       "        vertical-align: middle;\n",
       "    }\n",
       "\n",
       "    .dataframe tbody tr th {\n",
       "        vertical-align: top;\n",
       "    }\n",
       "\n",
       "    .dataframe thead th {\n",
       "        text-align: right;\n",
       "    }\n",
       "</style>\n",
       "<table border=\"1\" class=\"dataframe\">\n",
       "  <thead>\n",
       "    <tr style=\"text-align: right;\">\n",
       "      <th></th>\n",
       "      <th>age</th>\n",
       "      <th>salary</th>\n",
       "    </tr>\n",
       "  </thead>\n",
       "  <tbody>\n",
       "    <tr>\n",
       "      <th>count</th>\n",
       "      <td>5.000000</td>\n",
       "      <td>5.000000</td>\n",
       "    </tr>\n",
       "    <tr>\n",
       "      <th>mean</th>\n",
       "      <td>22.600000</td>\n",
       "      <td>66460.000000</td>\n",
       "    </tr>\n",
       "    <tr>\n",
       "      <th>std</th>\n",
       "      <td>1.516575</td>\n",
       "      <td>49781.100832</td>\n",
       "    </tr>\n",
       "    <tr>\n",
       "      <th>min</th>\n",
       "      <td>20.000000</td>\n",
       "      <td>22300.000000</td>\n",
       "    </tr>\n",
       "    <tr>\n",
       "      <th>25%</th>\n",
       "      <td>23.000000</td>\n",
       "      <td>30000.000000</td>\n",
       "    </tr>\n",
       "    <tr>\n",
       "      <th>50%</th>\n",
       "      <td>23.000000</td>\n",
       "      <td>40000.000000</td>\n",
       "    </tr>\n",
       "    <tr>\n",
       "      <th>75%</th>\n",
       "      <td>23.000000</td>\n",
       "      <td>110000.000000</td>\n",
       "    </tr>\n",
       "    <tr>\n",
       "      <th>max</th>\n",
       "      <td>24.000000</td>\n",
       "      <td>130000.000000</td>\n",
       "    </tr>\n",
       "  </tbody>\n",
       "</table>\n",
       "</div>"
      ],
      "text/plain": [
       "             age         salary\n",
       "count   5.000000       5.000000\n",
       "mean   22.600000   66460.000000\n",
       "std     1.516575   49781.100832\n",
       "min    20.000000   22300.000000\n",
       "25%    23.000000   30000.000000\n",
       "50%    23.000000   40000.000000\n",
       "75%    23.000000  110000.000000\n",
       "max    24.000000  130000.000000"
      ]
     },
     "execution_count": 58,
     "metadata": {},
     "output_type": "execute_result"
    }
   ],
   "source": [
    "df.describe()"
   ]
  },
  {
   "cell_type": "code",
   "execution_count": 59,
   "metadata": {},
   "outputs": [],
   "source": [
    "df2=pd.read_csv(\"./employee_data.csv\")"
   ]
  },
  {
   "cell_type": "code",
   "execution_count": 60,
   "metadata": {},
   "outputs": [
    {
     "data": {
      "text/html": [
       "<div>\n",
       "<style scoped>\n",
       "    .dataframe tbody tr th:only-of-type {\n",
       "        vertical-align: middle;\n",
       "    }\n",
       "\n",
       "    .dataframe tbody tr th {\n",
       "        vertical-align: top;\n",
       "    }\n",
       "\n",
       "    .dataframe thead th {\n",
       "        text-align: right;\n",
       "    }\n",
       "</style>\n",
       "<table border=\"1\" class=\"dataframe\">\n",
       "  <thead>\n",
       "    <tr style=\"text-align: right;\">\n",
       "      <th></th>\n",
       "      <th>EmployeeID</th>\n",
       "      <th>FirstName</th>\n",
       "      <th>LastName</th>\n",
       "      <th>Gender</th>\n",
       "      <th>Email</th>\n",
       "      <th>Phone</th>\n",
       "      <th>DateOfBirth</th>\n",
       "      <th>Department</th>\n",
       "      <th>Position</th>\n",
       "      <th>Salary</th>\n",
       "      <th>HireDate</th>\n",
       "    </tr>\n",
       "  </thead>\n",
       "  <tbody>\n",
       "    <tr>\n",
       "      <th>0</th>\n",
       "      <td>1</td>\n",
       "      <td>Eric</td>\n",
       "      <td>Guzman</td>\n",
       "      <td>Male</td>\n",
       "      <td>qshelton@yahoo.com</td>\n",
       "      <td>602-770-5338x8453</td>\n",
       "      <td>1980-10-19</td>\n",
       "      <td>Customer Support</td>\n",
       "      <td>Developer</td>\n",
       "      <td>53233.92</td>\n",
       "      <td>2019-06-07</td>\n",
       "    </tr>\n",
       "    <tr>\n",
       "      <th>1</th>\n",
       "      <td>2</td>\n",
       "      <td>Kenneth</td>\n",
       "      <td>Graham</td>\n",
       "      <td>Male</td>\n",
       "      <td>fwood@lutz.com</td>\n",
       "      <td>752-724-2100</td>\n",
       "      <td>1981-08-21</td>\n",
       "      <td>Finance</td>\n",
       "      <td>Manager</td>\n",
       "      <td>65301.83</td>\n",
       "      <td>2016-05-26</td>\n",
       "    </tr>\n",
       "    <tr>\n",
       "      <th>2</th>\n",
       "      <td>3</td>\n",
       "      <td>Renee</td>\n",
       "      <td>Hendrix</td>\n",
       "      <td>Female</td>\n",
       "      <td>clinealicia@thompson.net</td>\n",
       "      <td>(332)917-4497</td>\n",
       "      <td>1969-11-29</td>\n",
       "      <td>Customer Support</td>\n",
       "      <td>Developer</td>\n",
       "      <td>61248.82</td>\n",
       "      <td>2016-12-28</td>\n",
       "    </tr>\n",
       "    <tr>\n",
       "      <th>3</th>\n",
       "      <td>4</td>\n",
       "      <td>Jon</td>\n",
       "      <td>Curtis</td>\n",
       "      <td>Male</td>\n",
       "      <td>cassandrawest@reed.com</td>\n",
       "      <td>001-474-493-8117</td>\n",
       "      <td>1964-01-29</td>\n",
       "      <td>Customer Support</td>\n",
       "      <td>Engineer</td>\n",
       "      <td>112405.32</td>\n",
       "      <td>2015-02-15</td>\n",
       "    </tr>\n",
       "    <tr>\n",
       "      <th>4</th>\n",
       "      <td>5</td>\n",
       "      <td>Michelle</td>\n",
       "      <td>Harris</td>\n",
       "      <td>Female</td>\n",
       "      <td>joannacarlson@hotmail.com</td>\n",
       "      <td>9052247567</td>\n",
       "      <td>1987-02-13</td>\n",
       "      <td>IT</td>\n",
       "      <td>Executive</td>\n",
       "      <td>75245.89</td>\n",
       "      <td>2015-02-13</td>\n",
       "    </tr>\n",
       "    <tr>\n",
       "      <th>...</th>\n",
       "      <td>...</td>\n",
       "      <td>...</td>\n",
       "      <td>...</td>\n",
       "      <td>...</td>\n",
       "      <td>...</td>\n",
       "      <td>...</td>\n",
       "      <td>...</td>\n",
       "      <td>...</td>\n",
       "      <td>...</td>\n",
       "      <td>...</td>\n",
       "      <td>...</td>\n",
       "    </tr>\n",
       "    <tr>\n",
       "      <th>95</th>\n",
       "      <td>96</td>\n",
       "      <td>Anthony</td>\n",
       "      <td>Carr</td>\n",
       "      <td>Other</td>\n",
       "      <td>matthew43@hotmail.com</td>\n",
       "      <td>5334510340</td>\n",
       "      <td>2000-11-10</td>\n",
       "      <td>Sales</td>\n",
       "      <td>Engineer</td>\n",
       "      <td>58246.58</td>\n",
       "      <td>2015-03-11</td>\n",
       "    </tr>\n",
       "    <tr>\n",
       "      <th>96</th>\n",
       "      <td>97</td>\n",
       "      <td>Kimberly</td>\n",
       "      <td>Stevens</td>\n",
       "      <td>Female</td>\n",
       "      <td>nathangriffin@webb-david.info</td>\n",
       "      <td>083-646-8989x5290</td>\n",
       "      <td>2001-05-23</td>\n",
       "      <td>Marketing</td>\n",
       "      <td>Coordinator</td>\n",
       "      <td>53399.28</td>\n",
       "      <td>2015-04-25</td>\n",
       "    </tr>\n",
       "    <tr>\n",
       "      <th>97</th>\n",
       "      <td>98</td>\n",
       "      <td>Dan</td>\n",
       "      <td>Cole</td>\n",
       "      <td>Male</td>\n",
       "      <td>evanssusan@gmail.com</td>\n",
       "      <td>001-434-455-0516x808</td>\n",
       "      <td>1967-07-28</td>\n",
       "      <td>Customer Support</td>\n",
       "      <td>Developer</td>\n",
       "      <td>46361.76</td>\n",
       "      <td>2015-12-29</td>\n",
       "    </tr>\n",
       "    <tr>\n",
       "      <th>98</th>\n",
       "      <td>99</td>\n",
       "      <td>Miranda</td>\n",
       "      <td>Daniels</td>\n",
       "      <td>Female</td>\n",
       "      <td>sberry@lucas.biz</td>\n",
       "      <td>805-269-8837x5422</td>\n",
       "      <td>1968-10-21</td>\n",
       "      <td>Legal</td>\n",
       "      <td>Consultant</td>\n",
       "      <td>109108.30</td>\n",
       "      <td>2023-12-02</td>\n",
       "    </tr>\n",
       "    <tr>\n",
       "      <th>99</th>\n",
       "      <td>100</td>\n",
       "      <td>David</td>\n",
       "      <td>Hammond</td>\n",
       "      <td>Other</td>\n",
       "      <td>daniel45@stephens.biz</td>\n",
       "      <td>001-827-420-0810x057</td>\n",
       "      <td>1970-12-05</td>\n",
       "      <td>Finance</td>\n",
       "      <td>Manager</td>\n",
       "      <td>99458.56</td>\n",
       "      <td>2023-03-16</td>\n",
       "    </tr>\n",
       "  </tbody>\n",
       "</table>\n",
       "<p>100 rows × 11 columns</p>\n",
       "</div>"
      ],
      "text/plain": [
       "    EmployeeID FirstName LastName  Gender                          Email  \\\n",
       "0            1      Eric   Guzman    Male             qshelton@yahoo.com   \n",
       "1            2   Kenneth   Graham    Male                 fwood@lutz.com   \n",
       "2            3     Renee  Hendrix  Female       clinealicia@thompson.net   \n",
       "3            4       Jon   Curtis    Male         cassandrawest@reed.com   \n",
       "4            5  Michelle   Harris  Female      joannacarlson@hotmail.com   \n",
       "..         ...       ...      ...     ...                            ...   \n",
       "95          96   Anthony     Carr   Other          matthew43@hotmail.com   \n",
       "96          97  Kimberly  Stevens  Female  nathangriffin@webb-david.info   \n",
       "97          98       Dan     Cole    Male           evanssusan@gmail.com   \n",
       "98          99   Miranda  Daniels  Female               sberry@lucas.biz   \n",
       "99         100     David  Hammond   Other          daniel45@stephens.biz   \n",
       "\n",
       "                   Phone DateOfBirth        Department     Position  \\\n",
       "0      602-770-5338x8453  1980-10-19  Customer Support    Developer   \n",
       "1           752-724-2100  1981-08-21           Finance      Manager   \n",
       "2          (332)917-4497  1969-11-29  Customer Support    Developer   \n",
       "3       001-474-493-8117  1964-01-29  Customer Support     Engineer   \n",
       "4             9052247567  1987-02-13                IT    Executive   \n",
       "..                   ...         ...               ...          ...   \n",
       "95            5334510340  2000-11-10             Sales     Engineer   \n",
       "96     083-646-8989x5290  2001-05-23         Marketing  Coordinator   \n",
       "97  001-434-455-0516x808  1967-07-28  Customer Support    Developer   \n",
       "98     805-269-8837x5422  1968-10-21             Legal   Consultant   \n",
       "99  001-827-420-0810x057  1970-12-05           Finance      Manager   \n",
       "\n",
       "       Salary    HireDate  \n",
       "0    53233.92  2019-06-07  \n",
       "1    65301.83  2016-05-26  \n",
       "2    61248.82  2016-12-28  \n",
       "3   112405.32  2015-02-15  \n",
       "4    75245.89  2015-02-13  \n",
       "..        ...         ...  \n",
       "95   58246.58  2015-03-11  \n",
       "96   53399.28  2015-04-25  \n",
       "97   46361.76  2015-12-29  \n",
       "98  109108.30  2023-12-02  \n",
       "99   99458.56  2023-03-16  \n",
       "\n",
       "[100 rows x 11 columns]"
      ]
     },
     "execution_count": 60,
     "metadata": {},
     "output_type": "execute_result"
    }
   ],
   "source": [
    "df2"
   ]
  },
  {
   "cell_type": "code",
   "execution_count": 63,
   "metadata": {},
   "outputs": [
    {
     "data": {
      "text/html": [
       "<div>\n",
       "<style scoped>\n",
       "    .dataframe tbody tr th:only-of-type {\n",
       "        vertical-align: middle;\n",
       "    }\n",
       "\n",
       "    .dataframe tbody tr th {\n",
       "        vertical-align: top;\n",
       "    }\n",
       "\n",
       "    .dataframe thead th {\n",
       "        text-align: right;\n",
       "    }\n",
       "</style>\n",
       "<table border=\"1\" class=\"dataframe\">\n",
       "  <thead>\n",
       "    <tr style=\"text-align: right;\">\n",
       "      <th></th>\n",
       "      <th>EmployeeID</th>\n",
       "      <th>FirstName</th>\n",
       "      <th>LastName</th>\n",
       "      <th>Gender</th>\n",
       "      <th>Email</th>\n",
       "      <th>Phone</th>\n",
       "      <th>DateOfBirth</th>\n",
       "      <th>Department</th>\n",
       "      <th>Position</th>\n",
       "      <th>Salary</th>\n",
       "      <th>HireDate</th>\n",
       "    </tr>\n",
       "  </thead>\n",
       "  <tbody>\n",
       "    <tr>\n",
       "      <th>0</th>\n",
       "      <td>1</td>\n",
       "      <td>Eric</td>\n",
       "      <td>Guzman</td>\n",
       "      <td>Male</td>\n",
       "      <td>qshelton@yahoo.com</td>\n",
       "      <td>602-770-5338x8453</td>\n",
       "      <td>1980-10-19</td>\n",
       "      <td>Customer Support</td>\n",
       "      <td>Developer</td>\n",
       "      <td>53233.92</td>\n",
       "      <td>2019-06-07</td>\n",
       "    </tr>\n",
       "    <tr>\n",
       "      <th>1</th>\n",
       "      <td>2</td>\n",
       "      <td>Kenneth</td>\n",
       "      <td>Graham</td>\n",
       "      <td>Male</td>\n",
       "      <td>fwood@lutz.com</td>\n",
       "      <td>752-724-2100</td>\n",
       "      <td>1981-08-21</td>\n",
       "      <td>Finance</td>\n",
       "      <td>Manager</td>\n",
       "      <td>65301.83</td>\n",
       "      <td>2016-05-26</td>\n",
       "    </tr>\n",
       "    <tr>\n",
       "      <th>2</th>\n",
       "      <td>3</td>\n",
       "      <td>Renee</td>\n",
       "      <td>Hendrix</td>\n",
       "      <td>Female</td>\n",
       "      <td>clinealicia@thompson.net</td>\n",
       "      <td>(332)917-4497</td>\n",
       "      <td>1969-11-29</td>\n",
       "      <td>Customer Support</td>\n",
       "      <td>Developer</td>\n",
       "      <td>61248.82</td>\n",
       "      <td>2016-12-28</td>\n",
       "    </tr>\n",
       "    <tr>\n",
       "      <th>3</th>\n",
       "      <td>4</td>\n",
       "      <td>Jon</td>\n",
       "      <td>Curtis</td>\n",
       "      <td>Male</td>\n",
       "      <td>cassandrawest@reed.com</td>\n",
       "      <td>001-474-493-8117</td>\n",
       "      <td>1964-01-29</td>\n",
       "      <td>Customer Support</td>\n",
       "      <td>Engineer</td>\n",
       "      <td>112405.32</td>\n",
       "      <td>2015-02-15</td>\n",
       "    </tr>\n",
       "  </tbody>\n",
       "</table>\n",
       "</div>"
      ],
      "text/plain": [
       "   EmployeeID FirstName LastName  Gender                     Email  \\\n",
       "0           1      Eric   Guzman    Male        qshelton@yahoo.com   \n",
       "1           2   Kenneth   Graham    Male            fwood@lutz.com   \n",
       "2           3     Renee  Hendrix  Female  clinealicia@thompson.net   \n",
       "3           4       Jon   Curtis    Male    cassandrawest@reed.com   \n",
       "\n",
       "               Phone DateOfBirth        Department   Position     Salary  \\\n",
       "0  602-770-5338x8453  1980-10-19  Customer Support  Developer   53233.92   \n",
       "1       752-724-2100  1981-08-21           Finance    Manager   65301.83   \n",
       "2      (332)917-4497  1969-11-29  Customer Support  Developer   61248.82   \n",
       "3   001-474-493-8117  1964-01-29  Customer Support   Engineer  112405.32   \n",
       "\n",
       "     HireDate  \n",
       "0  2019-06-07  \n",
       "1  2016-05-26  \n",
       "2  2016-12-28  \n",
       "3  2015-02-15  "
      ]
     },
     "execution_count": 63,
     "metadata": {},
     "output_type": "execute_result"
    }
   ],
   "source": [
    "# return first five rows by default\n",
    "df2.head(4)\n",
    "# return the last five rows by default\n",
    "df2.tail()"
   ]
  },
  {
   "cell_type": "code",
   "execution_count": 64,
   "metadata": {},
   "outputs": [
    {
     "data": {
      "text/plain": [
       "EmployeeID       int64\n",
       "FirstName       object\n",
       "LastName        object\n",
       "Gender          object\n",
       "Email           object\n",
       "Phone           object\n",
       "DateOfBirth     object\n",
       "Department      object\n",
       "Position        object\n",
       "Salary         float64\n",
       "HireDate        object\n",
       "dtype: object"
      ]
     },
     "execution_count": 64,
     "metadata": {},
     "output_type": "execute_result"
    }
   ],
   "source": [
    "# to get the types of each element data types\n",
    "df2.dtypes"
   ]
  },
  {
   "cell_type": "code",
   "execution_count": 67,
   "metadata": {},
   "outputs": [
    {
     "data": {
      "text/plain": [
       "EmployeeID     False\n",
       "FirstName      False\n",
       "LastName       False\n",
       "Gender         False\n",
       "Email          False\n",
       "Phone          False\n",
       "DateOfBirth    False\n",
       "Department     False\n",
       "Position       False\n",
       "Salary         False\n",
       "HireDate       False\n",
       "dtype: bool"
      ]
     },
     "execution_count": 67,
     "metadata": {},
     "output_type": "execute_result"
    }
   ],
   "source": [
    "df2.isnull().any()"
   ]
  },
  {
   "cell_type": "code",
   "execution_count": 69,
   "metadata": {},
   "outputs": [
    {
     "data": {
      "text/html": [
       "<div>\n",
       "<style scoped>\n",
       "    .dataframe tbody tr th:only-of-type {\n",
       "        vertical-align: middle;\n",
       "    }\n",
       "\n",
       "    .dataframe tbody tr th {\n",
       "        vertical-align: top;\n",
       "    }\n",
       "\n",
       "    .dataframe thead th {\n",
       "        text-align: right;\n",
       "    }\n",
       "</style>\n",
       "<table border=\"1\" class=\"dataframe\">\n",
       "  <thead>\n",
       "    <tr style=\"text-align: right;\">\n",
       "      <th></th>\n",
       "      <th>EmployeeID</th>\n",
       "      <th>FirstName</th>\n",
       "      <th>LastName</th>\n",
       "      <th>Gender</th>\n",
       "      <th>Email</th>\n",
       "      <th>Phone</th>\n",
       "      <th>DateOfBirth</th>\n",
       "      <th>Department</th>\n",
       "      <th>Position</th>\n",
       "      <th>Salary</th>\n",
       "      <th>HireDate</th>\n",
       "    </tr>\n",
       "  </thead>\n",
       "  <tbody>\n",
       "    <tr>\n",
       "      <th>51</th>\n",
       "      <td>52</td>\n",
       "      <td>Marcus</td>\n",
       "      <td>Sullivan</td>\n",
       "      <td>Male</td>\n",
       "      <td>nthompson@gmail.com</td>\n",
       "      <td>509.153.7605x659</td>\n",
       "      <td>2002-06-21</td>\n",
       "      <td>Sales</td>\n",
       "      <td>Consultant</td>\n",
       "      <td>40095.79</td>\n",
       "      <td>2018-04-06</td>\n",
       "    </tr>\n",
       "    <tr>\n",
       "      <th>66</th>\n",
       "      <td>67</td>\n",
       "      <td>Christina</td>\n",
       "      <td>Hughes</td>\n",
       "      <td>Female</td>\n",
       "      <td>vangashley@gmail.com</td>\n",
       "      <td>001-549-522-8099x747</td>\n",
       "      <td>1966-07-21</td>\n",
       "      <td>Customer Support</td>\n",
       "      <td>Analyst</td>\n",
       "      <td>41737.69</td>\n",
       "      <td>2024-03-04</td>\n",
       "    </tr>\n",
       "    <tr>\n",
       "      <th>78</th>\n",
       "      <td>79</td>\n",
       "      <td>Rachel</td>\n",
       "      <td>Wallace</td>\n",
       "      <td>Other</td>\n",
       "      <td>jodi68@hotmail.com</td>\n",
       "      <td>971-858-7973</td>\n",
       "      <td>1966-08-05</td>\n",
       "      <td>HR</td>\n",
       "      <td>Consultant</td>\n",
       "      <td>43197.75</td>\n",
       "      <td>2016-02-03</td>\n",
       "    </tr>\n",
       "    <tr>\n",
       "      <th>17</th>\n",
       "      <td>18</td>\n",
       "      <td>Kristy</td>\n",
       "      <td>Garcia</td>\n",
       "      <td>Male</td>\n",
       "      <td>aaronmathews@hotmail.com</td>\n",
       "      <td>(896)216-1584</td>\n",
       "      <td>1983-10-28</td>\n",
       "      <td>Operations</td>\n",
       "      <td>Consultant</td>\n",
       "      <td>43324.80</td>\n",
       "      <td>2018-11-05</td>\n",
       "    </tr>\n",
       "    <tr>\n",
       "      <th>62</th>\n",
       "      <td>63</td>\n",
       "      <td>Amanda</td>\n",
       "      <td>White</td>\n",
       "      <td>Other</td>\n",
       "      <td>erin38@yahoo.com</td>\n",
       "      <td>+1-216-564-7673</td>\n",
       "      <td>2002-01-03</td>\n",
       "      <td>Legal</td>\n",
       "      <td>Analyst</td>\n",
       "      <td>44321.74</td>\n",
       "      <td>2018-01-05</td>\n",
       "    </tr>\n",
       "    <tr>\n",
       "      <th>...</th>\n",
       "      <td>...</td>\n",
       "      <td>...</td>\n",
       "      <td>...</td>\n",
       "      <td>...</td>\n",
       "      <td>...</td>\n",
       "      <td>...</td>\n",
       "      <td>...</td>\n",
       "      <td>...</td>\n",
       "      <td>...</td>\n",
       "      <td>...</td>\n",
       "      <td>...</td>\n",
       "    </tr>\n",
       "    <tr>\n",
       "      <th>22</th>\n",
       "      <td>23</td>\n",
       "      <td>Michael</td>\n",
       "      <td>Tanner</td>\n",
       "      <td>Other</td>\n",
       "      <td>christopher25@yahoo.com</td>\n",
       "      <td>+1-969-734-8606</td>\n",
       "      <td>1981-05-06</td>\n",
       "      <td>IT</td>\n",
       "      <td>Consultant</td>\n",
       "      <td>116839.71</td>\n",
       "      <td>2024-03-29</td>\n",
       "    </tr>\n",
       "    <tr>\n",
       "      <th>43</th>\n",
       "      <td>44</td>\n",
       "      <td>Chase</td>\n",
       "      <td>Smith</td>\n",
       "      <td>Other</td>\n",
       "      <td>williamskristen@knight.org</td>\n",
       "      <td>001-645-148-3529x0962</td>\n",
       "      <td>1991-10-23</td>\n",
       "      <td>Finance</td>\n",
       "      <td>Analyst</td>\n",
       "      <td>118144.97</td>\n",
       "      <td>2024-06-20</td>\n",
       "    </tr>\n",
       "    <tr>\n",
       "      <th>39</th>\n",
       "      <td>40</td>\n",
       "      <td>Jennifer</td>\n",
       "      <td>Dodson</td>\n",
       "      <td>Female</td>\n",
       "      <td>dana77@hotmail.com</td>\n",
       "      <td>603.978.2726x26377</td>\n",
       "      <td>2002-02-04</td>\n",
       "      <td>IT</td>\n",
       "      <td>Engineer</td>\n",
       "      <td>118349.29</td>\n",
       "      <td>2016-05-25</td>\n",
       "    </tr>\n",
       "    <tr>\n",
       "      <th>14</th>\n",
       "      <td>15</td>\n",
       "      <td>Jeremy</td>\n",
       "      <td>Park</td>\n",
       "      <td>Female</td>\n",
       "      <td>kentshawn@lucas-lyons.com</td>\n",
       "      <td>749.320.5618x21043</td>\n",
       "      <td>1973-01-05</td>\n",
       "      <td>Finance</td>\n",
       "      <td>Coordinator</td>\n",
       "      <td>118759.28</td>\n",
       "      <td>2017-03-08</td>\n",
       "    </tr>\n",
       "    <tr>\n",
       "      <th>65</th>\n",
       "      <td>66</td>\n",
       "      <td>Jonathan</td>\n",
       "      <td>Sanders</td>\n",
       "      <td>Male</td>\n",
       "      <td>dawn32@torres.net</td>\n",
       "      <td>370-214-0089x158</td>\n",
       "      <td>1964-01-06</td>\n",
       "      <td>Customer Support</td>\n",
       "      <td>Coordinator</td>\n",
       "      <td>119406.27</td>\n",
       "      <td>2023-04-13</td>\n",
       "    </tr>\n",
       "  </tbody>\n",
       "</table>\n",
       "<p>100 rows × 11 columns</p>\n",
       "</div>"
      ],
      "text/plain": [
       "    EmployeeID  FirstName  LastName  Gender                       Email  \\\n",
       "51          52     Marcus  Sullivan    Male         nthompson@gmail.com   \n",
       "66          67  Christina    Hughes  Female        vangashley@gmail.com   \n",
       "78          79     Rachel   Wallace   Other          jodi68@hotmail.com   \n",
       "17          18     Kristy    Garcia    Male    aaronmathews@hotmail.com   \n",
       "62          63     Amanda     White   Other            erin38@yahoo.com   \n",
       "..         ...        ...       ...     ...                         ...   \n",
       "22          23    Michael    Tanner   Other     christopher25@yahoo.com   \n",
       "43          44      Chase     Smith   Other  williamskristen@knight.org   \n",
       "39          40   Jennifer    Dodson  Female          dana77@hotmail.com   \n",
       "14          15     Jeremy      Park  Female   kentshawn@lucas-lyons.com   \n",
       "65          66   Jonathan   Sanders    Male           dawn32@torres.net   \n",
       "\n",
       "                    Phone DateOfBirth        Department     Position  \\\n",
       "51       509.153.7605x659  2002-06-21             Sales   Consultant   \n",
       "66   001-549-522-8099x747  1966-07-21  Customer Support      Analyst   \n",
       "78           971-858-7973  1966-08-05                HR   Consultant   \n",
       "17          (896)216-1584  1983-10-28        Operations   Consultant   \n",
       "62        +1-216-564-7673  2002-01-03             Legal      Analyst   \n",
       "..                    ...         ...               ...          ...   \n",
       "22        +1-969-734-8606  1981-05-06                IT   Consultant   \n",
       "43  001-645-148-3529x0962  1991-10-23           Finance      Analyst   \n",
       "39     603.978.2726x26377  2002-02-04                IT     Engineer   \n",
       "14     749.320.5618x21043  1973-01-05           Finance  Coordinator   \n",
       "65       370-214-0089x158  1964-01-06  Customer Support  Coordinator   \n",
       "\n",
       "       Salary    HireDate  \n",
       "51   40095.79  2018-04-06  \n",
       "66   41737.69  2024-03-04  \n",
       "78   43197.75  2016-02-03  \n",
       "17   43324.80  2018-11-05  \n",
       "62   44321.74  2018-01-05  \n",
       "..        ...         ...  \n",
       "22  116839.71  2024-03-29  \n",
       "43  118144.97  2024-06-20  \n",
       "39  118349.29  2016-05-25  \n",
       "14  118759.28  2017-03-08  \n",
       "65  119406.27  2023-04-13  \n",
       "\n",
       "[100 rows x 11 columns]"
      ]
     },
     "execution_count": 69,
     "metadata": {},
     "output_type": "execute_result"
    }
   ],
   "source": [
    "# sorting the data by column\n",
    "df2.sort_values(by=\"Salary\",ascending=True)"
   ]
  },
  {
   "cell_type": "markdown",
   "metadata": {},
   "source": []
  },
  {
   "cell_type": "code",
   "execution_count": 70,
   "metadata": {},
   "outputs": [
    {
     "data": {
      "text/html": [
       "<div>\n",
       "<style scoped>\n",
       "    .dataframe tbody tr th:only-of-type {\n",
       "        vertical-align: middle;\n",
       "    }\n",
       "\n",
       "    .dataframe tbody tr th {\n",
       "        vertical-align: top;\n",
       "    }\n",
       "\n",
       "    .dataframe thead th {\n",
       "        text-align: right;\n",
       "    }\n",
       "</style>\n",
       "<table border=\"1\" class=\"dataframe\">\n",
       "  <thead>\n",
       "    <tr style=\"text-align: right;\">\n",
       "      <th></th>\n",
       "      <th>Patient_ID</th>\n",
       "      <th>Name</th>\n",
       "      <th>Age</th>\n",
       "      <th>Gender</th>\n",
       "      <th>Disease</th>\n",
       "      <th>Income</th>\n",
       "      <th>Days_Admitted</th>\n",
       "      <th>Treatment_Cost</th>\n",
       "      <th>Discharged</th>\n",
       "    </tr>\n",
       "  </thead>\n",
       "  <tbody>\n",
       "    <tr>\n",
       "      <th>0</th>\n",
       "      <td>10001</td>\n",
       "      <td>Patient_1</td>\n",
       "      <td>46</td>\n",
       "      <td>Male</td>\n",
       "      <td>NaN</td>\n",
       "      <td>90000.0</td>\n",
       "      <td>21.0</td>\n",
       "      <td>9816</td>\n",
       "      <td>True</td>\n",
       "    </tr>\n",
       "    <tr>\n",
       "      <th>1</th>\n",
       "      <td>10002</td>\n",
       "      <td>Patient_2</td>\n",
       "      <td>86</td>\n",
       "      <td>Female</td>\n",
       "      <td>Asthma</td>\n",
       "      <td>90000.0</td>\n",
       "      <td>20.0</td>\n",
       "      <td>8126</td>\n",
       "      <td>False</td>\n",
       "    </tr>\n",
       "    <tr>\n",
       "      <th>2</th>\n",
       "      <td>10003</td>\n",
       "      <td>Patient_3</td>\n",
       "      <td>64</td>\n",
       "      <td>Male</td>\n",
       "      <td>Asthma</td>\n",
       "      <td>50000.0</td>\n",
       "      <td>6.0</td>\n",
       "      <td>9192</td>\n",
       "      <td>False</td>\n",
       "    </tr>\n",
       "    <tr>\n",
       "      <th>3</th>\n",
       "      <td>10004</td>\n",
       "      <td>Patient_4</td>\n",
       "      <td>79</td>\n",
       "      <td>Female</td>\n",
       "      <td>Diabetes</td>\n",
       "      <td>50000.0</td>\n",
       "      <td>4.0</td>\n",
       "      <td>5505</td>\n",
       "      <td>True</td>\n",
       "    </tr>\n",
       "    <tr>\n",
       "      <th>4</th>\n",
       "      <td>10005</td>\n",
       "      <td>Patient_5</td>\n",
       "      <td>86</td>\n",
       "      <td>Male</td>\n",
       "      <td>Covid-19</td>\n",
       "      <td>120000.0</td>\n",
       "      <td>25.0</td>\n",
       "      <td>7881</td>\n",
       "      <td>True</td>\n",
       "    </tr>\n",
       "    <tr>\n",
       "      <th>...</th>\n",
       "      <td>...</td>\n",
       "      <td>...</td>\n",
       "      <td>...</td>\n",
       "      <td>...</td>\n",
       "      <td>...</td>\n",
       "      <td>...</td>\n",
       "      <td>...</td>\n",
       "      <td>...</td>\n",
       "      <td>...</td>\n",
       "    </tr>\n",
       "    <tr>\n",
       "      <th>9995</th>\n",
       "      <td>19996</td>\n",
       "      <td>Patient_9996</td>\n",
       "      <td>44</td>\n",
       "      <td>Female</td>\n",
       "      <td>NaN</td>\n",
       "      <td>90000.0</td>\n",
       "      <td>22.0</td>\n",
       "      <td>9608</td>\n",
       "      <td>False</td>\n",
       "    </tr>\n",
       "    <tr>\n",
       "      <th>9996</th>\n",
       "      <td>19997</td>\n",
       "      <td>Patient_9997</td>\n",
       "      <td>29</td>\n",
       "      <td>Male</td>\n",
       "      <td>Covid-19</td>\n",
       "      <td>50000.0</td>\n",
       "      <td>15.0</td>\n",
       "      <td>1316</td>\n",
       "      <td>False</td>\n",
       "    </tr>\n",
       "    <tr>\n",
       "      <th>9997</th>\n",
       "      <td>19998</td>\n",
       "      <td>Patient_9998</td>\n",
       "      <td>79</td>\n",
       "      <td>Female</td>\n",
       "      <td>Flu</td>\n",
       "      <td>70000.0</td>\n",
       "      <td>28.0</td>\n",
       "      <td>3963</td>\n",
       "      <td>False</td>\n",
       "    </tr>\n",
       "    <tr>\n",
       "      <th>9998</th>\n",
       "      <td>19999</td>\n",
       "      <td>Patient_9999</td>\n",
       "      <td>69</td>\n",
       "      <td>Female</td>\n",
       "      <td>Flu</td>\n",
       "      <td>150000.0</td>\n",
       "      <td>10.0</td>\n",
       "      <td>2091</td>\n",
       "      <td>True</td>\n",
       "    </tr>\n",
       "    <tr>\n",
       "      <th>9999</th>\n",
       "      <td>20000</td>\n",
       "      <td>Patient_10000</td>\n",
       "      <td>65</td>\n",
       "      <td>Male</td>\n",
       "      <td>NaN</td>\n",
       "      <td>NaN</td>\n",
       "      <td>16.0</td>\n",
       "      <td>6078</td>\n",
       "      <td>True</td>\n",
       "    </tr>\n",
       "  </tbody>\n",
       "</table>\n",
       "<p>10000 rows × 9 columns</p>\n",
       "</div>"
      ],
      "text/plain": [
       "      Patient_ID           Name  Age  Gender   Disease    Income  \\\n",
       "0          10001      Patient_1   46    Male       NaN   90000.0   \n",
       "1          10002      Patient_2   86  Female    Asthma   90000.0   \n",
       "2          10003      Patient_3   64    Male    Asthma   50000.0   \n",
       "3          10004      Patient_4   79  Female  Diabetes   50000.0   \n",
       "4          10005      Patient_5   86    Male  Covid-19  120000.0   \n",
       "...          ...            ...  ...     ...       ...       ...   \n",
       "9995       19996   Patient_9996   44  Female       NaN   90000.0   \n",
       "9996       19997   Patient_9997   29    Male  Covid-19   50000.0   \n",
       "9997       19998   Patient_9998   79  Female       Flu   70000.0   \n",
       "9998       19999   Patient_9999   69  Female       Flu  150000.0   \n",
       "9999       20000  Patient_10000   65    Male       NaN       NaN   \n",
       "\n",
       "      Days_Admitted  Treatment_Cost  Discharged  \n",
       "0              21.0            9816        True  \n",
       "1              20.0            8126       False  \n",
       "2               6.0            9192       False  \n",
       "3               4.0            5505        True  \n",
       "4              25.0            7881        True  \n",
       "...             ...             ...         ...  \n",
       "9995           22.0            9608       False  \n",
       "9996           15.0            1316       False  \n",
       "9997           28.0            3963       False  \n",
       "9998           10.0            2091        True  \n",
       "9999           16.0            6078        True  \n",
       "\n",
       "[10000 rows x 9 columns]"
      ]
     },
     "execution_count": 70,
     "metadata": {},
     "output_type": "execute_result"
    }
   ],
   "source": []
  },
  {
   "cell_type": "code",
   "execution_count": null,
   "metadata": {},
   "outputs": [],
   "source": []
  }
 ],
 "metadata": {
  "kernelspec": {
   "display_name": "Python 3",
   "language": "python",
   "name": "python3"
  },
  "language_info": {
   "codemirror_mode": {
    "name": "ipython",
    "version": 3
   },
   "file_extension": ".py",
   "mimetype": "text/x-python",
   "name": "python",
   "nbconvert_exporter": "python",
   "pygments_lexer": "ipython3",
   "version": "3.10.14"
  }
 },
 "nbformat": 4,
 "nbformat_minor": 2
}
