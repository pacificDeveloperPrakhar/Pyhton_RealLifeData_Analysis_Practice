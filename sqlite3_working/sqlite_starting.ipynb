{
 "cells": [
  {
   "cell_type": "code",
   "execution_count": 39,
   "metadata": {},
   "outputs": [],
   "source": [
    "import sqlite3"
   ]
  },
  {
   "cell_type": "code",
   "execution_count": 40,
   "metadata": {},
   "outputs": [],
   "source": [
    "db=sqlite3.connect(\"test.db\")"
   ]
  },
  {
   "cell_type": "code",
   "execution_count": 41,
   "metadata": {},
   "outputs": [],
   "source": [
    "#use cursor to fetch from the database and execcute query and perform query\n",
    "curs=db.cursor()"
   ]
  },
  {
   "cell_type": "code",
   "execution_count": 35,
   "metadata": {},
   "outputs": [
    {
     "ename": "OperationalError",
     "evalue": "table students already exists",
     "output_type": "error",
     "traceback": [
      "\u001b[1;31m---------------------------------------------------------------------------\u001b[0m",
      "\u001b[1;31mOperationalError\u001b[0m                          Traceback (most recent call last)",
      "Cell \u001b[1;32mIn[35], line 1\u001b[0m\n\u001b[1;32m----> 1\u001b[0m \u001b[43mcurs\u001b[49m\u001b[38;5;241;43m.\u001b[39;49m\u001b[43mexecute\u001b[49m\u001b[43m(\u001b[49m\u001b[38;5;124;43m'''\u001b[39;49m\n\u001b[0;32m      2\u001b[0m \u001b[38;5;124;43m    CREATE TABLE students (\u001b[39;49m\n\u001b[0;32m      3\u001b[0m \u001b[38;5;124;43m        student_id TEXT PRIMARY KEY,  -- Store UUID as TEXT\u001b[39;49m\n\u001b[0;32m      4\u001b[0m \u001b[38;5;124;43m        first_name TEXT NOT NULL,\u001b[39;49m\n\u001b[0;32m      5\u001b[0m \u001b[38;5;124;43m        last_name TEXT NOT NULL,\u001b[39;49m\n\u001b[0;32m      6\u001b[0m \u001b[38;5;124;43m        email TEXT NOT NULL UNIQUE,\u001b[39;49m\n\u001b[0;32m      7\u001b[0m \u001b[38;5;124;43m        date_of_birth DATE NOT NULL,\u001b[39;49m\n\u001b[0;32m      8\u001b[0m \u001b[38;5;124;43m        gender TEXT,\u001b[39;49m\n\u001b[0;32m      9\u001b[0m \u001b[38;5;124;43m        course TEXT NOT NULL,\u001b[39;49m\n\u001b[0;32m     10\u001b[0m \u001b[38;5;124;43m        enrollment_date DATE NOT NULL\u001b[39;49m\n\u001b[0;32m     11\u001b[0m \u001b[38;5;124;43m    )\u001b[39;49m\n\u001b[0;32m     12\u001b[0m \u001b[38;5;124;43m'''\u001b[39;49m\u001b[43m)\u001b[49m\n",
      "\u001b[1;31mOperationalError\u001b[0m: table students already exists"
     ]
    }
   ],
   "source": [
    "curs.execute('''\n",
    "    CREATE TABLE students (\n",
    "        student_id TEXT PRIMARY KEY,  -- Store UUID as TEXT\n",
    "        first_name TEXT NOT NULL,\n",
    "        last_name TEXT NOT NULL,\n",
    "        email TEXT NOT NULL UNIQUE,\n",
    "        date_of_birth DATE NOT NULL,\n",
    "        gender TEXT,\n",
    "        course TEXT NOT NULL,\n",
    "        enrollment_date DATE NOT NULL\n",
    "    )\n",
    "''')"
   ]
  },
  {
   "cell_type": "code",
   "execution_count": 16,
   "metadata": {},
   "outputs": [
    {
     "name": "stdout",
     "output_type": "stream",
     "text": [
      "0b8c4d37-d10d-4a7b-976b-28886a693133\n"
     ]
    }
   ],
   "source": [
    "import uuid\n",
    "student_uuid = str(uuid.uuid4())  # Generate a UUID v4\n",
    "# curs.execute('''\n",
    "#     INSERT INTO students (student_id, first_name, last_name, email, date_of_birth, gender, course, enrollment_date)\n",
    "#     VALUES (?, ?, ?, ?, ?, ?, ?, ?)\n",
    "# ''', (student_uuid, 'John', 'Doe', 'john.doe@example.com', '2000-05-15', 'Male', 'Computer Science', '2019-09-01'))\n",
    "print(str(uuid.uuid4()))"
   ]
  },
  {
   "cell_type": "code",
   "execution_count": 19,
   "metadata": {},
   "outputs": [
    {
     "data": {
      "text/plain": [
       "<sqlite3.Cursor at 0x1aece6f2340>"
      ]
     },
     "execution_count": 19,
     "metadata": {},
     "output_type": "execute_result"
    }
   ],
   "source": [
    "student_uuid=str(uuid.uuid4())\n",
    "curs.execute('''\n",
    "INSERT INTO students (student_id, first_name, last_name, email, date_of_birth, gender, course, enrollment_date)\n",
    "VALUES (?, ?, ?, ?, ?, ?, ?, ?)\n",
    "''', (student_uuid, 'Tony', 'Mark', 'tonystark2000@gmail.com', '1987-06-16', 'Male', 'Computer Science', '2023-09-02'))\n"
   ]
  },
  {
   "cell_type": "code",
   "execution_count": 30,
   "metadata": {},
   "outputs": [
    {
     "name": "stdout",
     "output_type": "stream",
     "text": [
      "(('student_id', None, None, None, None, None, None), ('first_name', None, None, None, None, None, None), ('last_name', None, None, None, None, None, None), ('email', None, None, None, None, None, None), ('date_of_birth', None, None, None, None, None, None), ('gender', None, None, None, None, None, None), ('course', None, None, None, None, None, None), ('enrollment_date', None, None, None, None, None, None))\n"
     ]
    }
   ],
   "source": [
    "import pandas as pd\n",
    "pd.DataFrame(curs.execute('SELECT * FROM students'))\n",
    "# curs.execute('''\n",
    "# CREATE TABLE employees (\n",
    "#         employee_id uuid PRIMARY KEY, \n",
    "#         first_name TEXT NOT NULL,\n",
    "#         last_name TEXT NOT NULL,\n",
    "#         email TEXT NOT NULL UNIQUE)\n",
    "# ''')\n",
    "\n",
    "print(curs.description)"
   ]
  },
  {
   "cell_type": "code",
   "execution_count": 31,
   "metadata": {},
   "outputs": [],
   "source": [
    "#save the changes\n",
    "db.commit()\n",
    "#close the connection\n",
    "db.close()"
   ]
  },
  {
   "cell_type": "code",
   "execution_count": 43,
   "metadata": {},
   "outputs": [],
   "source": [
    "# Create employee table\n",
    "curs.execute('''\n",
    "    CREATE TABLE IF NOT EXISTS employee (\n",
    "        employee_id INTEGER PRIMARY KEY AUTOINCREMENT,\n",
    "        first_name TEXT NOT NULL,\n",
    "        last_name TEXT NOT NULL,\n",
    "        email TEXT NOT NULL,\n",
    "        date_of_birth TEXT,\n",
    "        hire_date TEXT,\n",
    "        department TEXT,\n",
    "        salary REAL\n",
    "    )\n",
    "''')\n",
    "\n",
    "# Commit the changes\n",
    "db.commit()"
   ]
  },
  {
   "cell_type": "code",
   "execution_count": 44,
   "metadata": {},
   "outputs": [],
   "source": [
    "# Sample employee data\n",
    "employees = [\n",
    "    ('Tony', 'Stark', 'tony.stark@starkindustries.com', '1970-05-29', '2008-10-10', 'Engineering', 150000),\n",
    "    ('Steve', 'Rogers', 'steve.rogers@avengers.com', '1918-07-04', '2011-09-05', 'Security', 100000),\n",
    "    ('Natasha', 'Romanoff', 'natasha.romanoff@shield.gov', '1984-11-22', '2010-01-01', 'Intelligence', 120000),\n",
    "    ('Bruce', 'Banner', 'bruce.banner@avengers.com', '1969-12-18', '2012-04-26', 'Research', 135000),\n",
    "    ('Clint', 'Barton', 'clint.barton@shield.gov', '1971-06-07', '2011-07-19', 'Security', 95000),\n",
    "    ('Peter', 'Parker', 'peter.parker@dailybugle.com', '2001-08-10', '2020-06-15', 'Photography', 55000),\n",
    "    ('Carol', 'Danvers', 'carol.danvers@shield.gov', '1968-10-15', '2018-03-08', 'Defense', 180000),\n",
    "    ('Wanda', 'Maximoff', 'wanda.maximoff@avengers.com', '1989-02-10', '2015-05-01', 'Telekinesis', 130000),\n",
    "    ('Scott', 'Lang', 'scott.lang@avengers.com', '1969-04-06', '2015-07-17', 'R&D', 90000),\n",
    "    ('T\\'Challa', 'Udaku', 'tchalla.udaku@wakanda.com', '1980-11-21', '2016-02-16', 'Leadership', 200000)\n",
    "]\n",
    "\n",
    "# Insert data into the employee table\n",
    "curs.executemany('''\n",
    "    INSERT INTO employee (first_name, last_name, email, date_of_birth, hire_date, department, salary)\n",
    "    VALUES (?, ?, ?, ?, ?, ?, ?)\n",
    "''', employees)\n",
    "\n",
    "# Commit the changes\n",
    "db.commit()\n"
   ]
  },
  {
   "cell_type": "code",
   "execution_count": 46,
   "metadata": {},
   "outputs": [
    {
     "data": {
      "text/plain": [
       "[(1,\n",
       "  'Tony',\n",
       "  'Stark',\n",
       "  'tony.stark@starkindustries.com',\n",
       "  '1970-05-29',\n",
       "  '2008-10-10',\n",
       "  'Engineering',\n",
       "  150000.0),\n",
       " (2,\n",
       "  'Steve',\n",
       "  'Rogers',\n",
       "  'steve.rogers@avengers.com',\n",
       "  '1918-07-04',\n",
       "  '2011-09-05',\n",
       "  'Security',\n",
       "  100000.0),\n",
       " (3,\n",
       "  'Natasha',\n",
       "  'Romanoff',\n",
       "  'natasha.romanoff@shield.gov',\n",
       "  '1984-11-22',\n",
       "  '2010-01-01',\n",
       "  'Intelligence',\n",
       "  120000.0),\n",
       " (4,\n",
       "  'Bruce',\n",
       "  'Banner',\n",
       "  'bruce.banner@avengers.com',\n",
       "  '1969-12-18',\n",
       "  '2012-04-26',\n",
       "  'Research',\n",
       "  135000.0),\n",
       " (5,\n",
       "  'Clint',\n",
       "  'Barton',\n",
       "  'clint.barton@shield.gov',\n",
       "  '1971-06-07',\n",
       "  '2011-07-19',\n",
       "  'Security',\n",
       "  95000.0),\n",
       " (6,\n",
       "  'Peter',\n",
       "  'Parker',\n",
       "  'peter.parker@dailybugle.com',\n",
       "  '2001-08-10',\n",
       "  '2020-06-15',\n",
       "  'Photography',\n",
       "  55000.0),\n",
       " (7,\n",
       "  'Carol',\n",
       "  'Danvers',\n",
       "  'carol.danvers@shield.gov',\n",
       "  '1968-10-15',\n",
       "  '2018-03-08',\n",
       "  'Defense',\n",
       "  180000.0),\n",
       " (8,\n",
       "  'Wanda',\n",
       "  'Maximoff',\n",
       "  'wanda.maximoff@avengers.com',\n",
       "  '1989-02-10',\n",
       "  '2015-05-01',\n",
       "  'Telekinesis',\n",
       "  130000.0),\n",
       " (9,\n",
       "  'Scott',\n",
       "  'Lang',\n",
       "  'scott.lang@avengers.com',\n",
       "  '1969-04-06',\n",
       "  '2015-07-17',\n",
       "  'R&D',\n",
       "  90000.0),\n",
       " (10,\n",
       "  \"T'Challa\",\n",
       "  'Udaku',\n",
       "  'tchalla.udaku@wakanda.com',\n",
       "  '1980-11-21',\n",
       "  '2016-02-16',\n",
       "  'Leadership',\n",
       "  200000.0)]"
      ]
     },
     "execution_count": 46,
     "metadata": {},
     "output_type": "execute_result"
    }
   ],
   "source": [
    "curs.execute(\"select * from employee\")\n",
    "curs.fetchall()"
   ]
  },
  {
   "cell_type": "code",
   "execution_count": null,
   "metadata": {},
   "outputs": [],
   "source": []
  },
  {
   "cell_type": "code",
   "execution_count": 47,
   "metadata": {},
   "outputs": [
    {
     "data": {
      "text/html": [
       "<div>\n",
       "<style scoped>\n",
       "    .dataframe tbody tr th:only-of-type {\n",
       "        vertical-align: middle;\n",
       "    }\n",
       "\n",
       "    .dataframe tbody tr th {\n",
       "        vertical-align: top;\n",
       "    }\n",
       "\n",
       "    .dataframe thead th {\n",
       "        text-align: right;\n",
       "    }\n",
       "</style>\n",
       "<table border=\"1\" class=\"dataframe\">\n",
       "  <thead>\n",
       "    <tr style=\"text-align: right;\">\n",
       "      <th></th>\n",
       "      <th>0</th>\n",
       "      <th>1</th>\n",
       "      <th>2</th>\n",
       "      <th>3</th>\n",
       "      <th>4</th>\n",
       "      <th>5</th>\n",
       "      <th>6</th>\n",
       "      <th>7</th>\n",
       "    </tr>\n",
       "  </thead>\n",
       "  <tbody>\n",
       "    <tr>\n",
       "      <th>0</th>\n",
       "      <td>1</td>\n",
       "      <td>Tony</td>\n",
       "      <td>Stark</td>\n",
       "      <td>tony.stark@starkindustries.com</td>\n",
       "      <td>1970-05-29</td>\n",
       "      <td>2008-10-10</td>\n",
       "      <td>Engineering</td>\n",
       "      <td>150000.0</td>\n",
       "    </tr>\n",
       "    <tr>\n",
       "      <th>1</th>\n",
       "      <td>2</td>\n",
       "      <td>Steve</td>\n",
       "      <td>Rogers</td>\n",
       "      <td>steve.rogers@avengers.com</td>\n",
       "      <td>1918-07-04</td>\n",
       "      <td>2011-09-05</td>\n",
       "      <td>Security</td>\n",
       "      <td>100000.0</td>\n",
       "    </tr>\n",
       "    <tr>\n",
       "      <th>2</th>\n",
       "      <td>3</td>\n",
       "      <td>Natasha</td>\n",
       "      <td>Romanoff</td>\n",
       "      <td>natasha.romanoff@shield.gov</td>\n",
       "      <td>1984-11-22</td>\n",
       "      <td>2010-01-01</td>\n",
       "      <td>Intelligence</td>\n",
       "      <td>120000.0</td>\n",
       "    </tr>\n",
       "    <tr>\n",
       "      <th>3</th>\n",
       "      <td>4</td>\n",
       "      <td>Bruce</td>\n",
       "      <td>Banner</td>\n",
       "      <td>bruce.banner@avengers.com</td>\n",
       "      <td>1969-12-18</td>\n",
       "      <td>2012-04-26</td>\n",
       "      <td>Research</td>\n",
       "      <td>135000.0</td>\n",
       "    </tr>\n",
       "    <tr>\n",
       "      <th>4</th>\n",
       "      <td>5</td>\n",
       "      <td>Clint</td>\n",
       "      <td>Barton</td>\n",
       "      <td>clint.barton@shield.gov</td>\n",
       "      <td>1971-06-07</td>\n",
       "      <td>2011-07-19</td>\n",
       "      <td>Security</td>\n",
       "      <td>95000.0</td>\n",
       "    </tr>\n",
       "    <tr>\n",
       "      <th>5</th>\n",
       "      <td>6</td>\n",
       "      <td>Peter</td>\n",
       "      <td>Parker</td>\n",
       "      <td>peter.parker@dailybugle.com</td>\n",
       "      <td>2001-08-10</td>\n",
       "      <td>2020-06-15</td>\n",
       "      <td>Photography</td>\n",
       "      <td>55000.0</td>\n",
       "    </tr>\n",
       "    <tr>\n",
       "      <th>6</th>\n",
       "      <td>7</td>\n",
       "      <td>Carol</td>\n",
       "      <td>Danvers</td>\n",
       "      <td>carol.danvers@shield.gov</td>\n",
       "      <td>1968-10-15</td>\n",
       "      <td>2018-03-08</td>\n",
       "      <td>Defense</td>\n",
       "      <td>180000.0</td>\n",
       "    </tr>\n",
       "    <tr>\n",
       "      <th>7</th>\n",
       "      <td>8</td>\n",
       "      <td>Wanda</td>\n",
       "      <td>Maximoff</td>\n",
       "      <td>wanda.maximoff@avengers.com</td>\n",
       "      <td>1989-02-10</td>\n",
       "      <td>2015-05-01</td>\n",
       "      <td>Telekinesis</td>\n",
       "      <td>130000.0</td>\n",
       "    </tr>\n",
       "    <tr>\n",
       "      <th>8</th>\n",
       "      <td>9</td>\n",
       "      <td>Scott</td>\n",
       "      <td>Lang</td>\n",
       "      <td>scott.lang@avengers.com</td>\n",
       "      <td>1969-04-06</td>\n",
       "      <td>2015-07-17</td>\n",
       "      <td>R&amp;D</td>\n",
       "      <td>90000.0</td>\n",
       "    </tr>\n",
       "    <tr>\n",
       "      <th>9</th>\n",
       "      <td>10</td>\n",
       "      <td>T'Challa</td>\n",
       "      <td>Udaku</td>\n",
       "      <td>tchalla.udaku@wakanda.com</td>\n",
       "      <td>1980-11-21</td>\n",
       "      <td>2016-02-16</td>\n",
       "      <td>Leadership</td>\n",
       "      <td>200000.0</td>\n",
       "    </tr>\n",
       "  </tbody>\n",
       "</table>\n",
       "</div>"
      ],
      "text/plain": [
       "    0         1         2                               3           4  \\\n",
       "0   1      Tony     Stark  tony.stark@starkindustries.com  1970-05-29   \n",
       "1   2     Steve    Rogers       steve.rogers@avengers.com  1918-07-04   \n",
       "2   3   Natasha  Romanoff     natasha.romanoff@shield.gov  1984-11-22   \n",
       "3   4     Bruce    Banner       bruce.banner@avengers.com  1969-12-18   \n",
       "4   5     Clint    Barton         clint.barton@shield.gov  1971-06-07   \n",
       "5   6     Peter    Parker     peter.parker@dailybugle.com  2001-08-10   \n",
       "6   7     Carol   Danvers        carol.danvers@shield.gov  1968-10-15   \n",
       "7   8     Wanda  Maximoff     wanda.maximoff@avengers.com  1989-02-10   \n",
       "8   9     Scott      Lang         scott.lang@avengers.com  1969-04-06   \n",
       "9  10  T'Challa     Udaku       tchalla.udaku@wakanda.com  1980-11-21   \n",
       "\n",
       "            5             6         7  \n",
       "0  2008-10-10   Engineering  150000.0  \n",
       "1  2011-09-05      Security  100000.0  \n",
       "2  2010-01-01  Intelligence  120000.0  \n",
       "3  2012-04-26      Research  135000.0  \n",
       "4  2011-07-19      Security   95000.0  \n",
       "5  2020-06-15   Photography   55000.0  \n",
       "6  2018-03-08       Defense  180000.0  \n",
       "7  2015-05-01   Telekinesis  130000.0  \n",
       "8  2015-07-17           R&D   90000.0  \n",
       "9  2016-02-16    Leadership  200000.0  "
      ]
     },
     "execution_count": 47,
     "metadata": {},
     "output_type": "execute_result"
    }
   ],
   "source": [
    "pd.DataFrame(curs.execute(\"select * from employee\"))"
   ]
  }
 ],
 "metadata": {
  "kernelspec": {
   "display_name": "Python 3",
   "language": "python",
   "name": "python3"
  },
  "language_info": {
   "codemirror_mode": {
    "name": "ipython",
    "version": 3
   },
   "file_extension": ".py",
   "mimetype": "text/x-python",
   "name": "python",
   "nbconvert_exporter": "python",
   "pygments_lexer": "ipython3",
   "version": "3.10.14"
  }
 },
 "nbformat": 4,
 "nbformat_minor": 2
}
